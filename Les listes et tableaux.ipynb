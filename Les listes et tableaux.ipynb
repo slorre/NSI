{
 "cells": [
  {
   "cell_type": "markdown",
   "metadata": {},
   "source": [
    "# Les listes et tableaux"
   ]
  },
  {
   "cell_type": "markdown",
   "metadata": {},
   "source": [
    "## I) Rappels"
   ]
  },
  {
   "cell_type": "markdown",
   "metadata": {},
   "source": [
    "### a) Accéder à un terme"
   ]
  },
  {
   "cell_type": "markdown",
   "metadata": {},
   "source": [
    "On peut accéder à un terme d'une liste en utilisant son index."
   ]
  },
  {
   "cell_type": "code",
   "execution_count": null,
   "metadata": {},
   "outputs": [],
   "source": [
    "liste=['chat','chien','cheval','chaton']\n",
    "#le premier terme de la liste d'obtient en appelant liste[0]\n",
    "print('le premier terme de la liste est',liste[0])\n",
    "print('le deuxième terme de la liste est',liste[1])"
   ]
  },
  {
   "cell_type": "markdown",
   "metadata": {},
   "source": [
    "### b)  Longueur d'une liste"
   ]
  },
  {
   "cell_type": "markdown",
   "metadata": {},
   "source": [
    "On peut connaitre la longueur de la liste en utilisant la fonction `len()`"
   ]
  },
  {
   "cell_type": "code",
   "execution_count": null,
   "metadata": {},
   "outputs": [],
   "source": [
    "liste=['chat','chien','cheval','chaton']\n",
    "print(len(liste))"
   ]
  },
  {
   "cell_type": "markdown",
   "metadata": {},
   "source": [
    "### c) Accéder au dernier terme"
   ]
  },
  {
   "cell_type": "markdown",
   "metadata": {},
   "source": [
    "On peut atteindre le dernier terme de deux manières différentes"
   ]
  },
  {
   "cell_type": "code",
   "execution_count": null,
   "metadata": {},
   "outputs": [],
   "source": [
    "liste=['chat','chien','cheval','chaton']\n",
    "#en utilisant la longueur\n",
    "print('le dernier terme de la liste est',liste[len(liste)-1]) #attention au -1\n",
    "#en utilisant un slice\n",
    "print('le dernier terme de la liste est',liste[-1])"
   ]
  },
  {
   "cell_type": "markdown",
   "metadata": {},
   "source": [
    "### d) Pour vérifier si une valeur est dans une liste"
   ]
  },
  {
   "cell_type": "markdown",
   "metadata": {},
   "source": [
    "Pour vérifier si une valeur est dans une liste, on va utiliser la commande `in`"
   ]
  },
  {
   "cell_type": "code",
   "execution_count": null,
   "metadata": {},
   "outputs": [],
   "source": [
    "liste=['chat','chien','cheval','chaton']\n",
    "print(\"'chat' est dans la liste :\",'chat' in liste)\n",
    "print(\"'kangourou' est dans la liste :\",'kangourou' in liste)"
   ]
  },
  {
   "cell_type": "markdown",
   "metadata": {},
   "source": [
    "## 2) Quelques méthodes supplémentaires"
   ]
  },
  {
   "cell_type": "markdown",
   "metadata": {},
   "source": [
    "### a) Ajouter un terme à une liste"
   ]
  },
  {
   "cell_type": "markdown",
   "metadata": {},
   "source": [
    "Pour ajouter un terme à la fin d'une liste, on va utiliser la méthode `append()`"
   ]
  },
  {
   "cell_type": "code",
   "execution_count": null,
   "metadata": {},
   "outputs": [],
   "source": [
    "liste=['chat','chien','cheval','chaton']\n",
    "#on ajoute 'lapin' à la fin de la liste\n",
    "liste.append('lapin')\n",
    "print(liste)"
   ]
  },
  {
   "cell_type": "markdown",
   "metadata": {},
   "source": [
    "### b) Supprimer une occurence dans une liste"
   ]
  },
  {
   "cell_type": "markdown",
   "metadata": {},
   "source": [
    "Pour supprimer une occurence dans une liste, on peut utiliser la méthode `remove()`"
   ]
  },
  {
   "cell_type": "code",
   "execution_count": null,
   "metadata": {},
   "outputs": [],
   "source": [
    "liste=['chat','chien','cheval','chaton']\n",
    "#on supprime 'chien' de liste\n",
    "liste.remove('chien')\n",
    "print(liste)"
   ]
  },
  {
   "cell_type": "markdown",
   "metadata": {},
   "source": [
    "***Attention*** , s'il existe plusieurs occurences identiques, cela ne supprime que la première."
   ]
  },
  {
   "cell_type": "code",
   "execution_count": null,
   "metadata": {},
   "outputs": [],
   "source": [
    "liste=['avion','bateau','avion','camion']\n",
    "#on supprime la première occurence de 'avion'\n",
    "liste.remove('avion')\n",
    "print(liste)"
   ]
  },
  {
   "cell_type": "markdown",
   "metadata": {},
   "source": [
    "***Attention*** , s'il n'existe pas d'occurences de la valeur à supprimer, cela donne un message d'erreur."
   ]
  },
  {
   "cell_type": "code",
   "execution_count": null,
   "metadata": {},
   "outputs": [],
   "source": [
    "liste=['a','b','c','d']\n",
    "#on essaye de supprimer 'e' dans liste qui ne le contient pas\n",
    "liste.remove('e')"
   ]
  },
  {
   "cell_type": "markdown",
   "metadata": {},
   "source": [
    "***Exercice :*** Ecrire un programme qui permet de supprimer toutes les occurences d'une liste. </p>\n",
    "Supprimer tous les 'chat' de la liste."
   ]
  },
  {
   "cell_type": "code",
   "execution_count": null,
   "metadata": {},
   "outputs": [],
   "source": [
    "liste=['chat','chien','chat','éléphant','chat','oiseau','écureuil','oiseau']\n",
    "#on supprime toutes les occurences de 'chat' dans liste\n",
    "\n",
    "\n",
    "\n",
    "print(liste)"
   ]
  },
  {
   "cell_type": "markdown",
   "metadata": {},
   "source": [
    "On peut aussi supprimer un terme d'une liste en utilisant son indice avec la commande `del`"
   ]
  },
  {
   "cell_type": "code",
   "execution_count": null,
   "metadata": {},
   "outputs": [],
   "source": [
    "liste=['a','b','c','d']\n",
    "#on supprime le deuxième terme\n",
    "del liste[1]\n",
    "print(liste)"
   ]
  },
  {
   "cell_type": "markdown",
   "metadata": {},
   "source": [
    "Ou avec la méthode `pop()` qui renvoie le contenu qui était situé à l'index de la suppression"
   ]
  },
  {
   "cell_type": "code",
   "execution_count": 1,
   "metadata": {},
   "outputs": [
    {
     "name": "stdout",
     "output_type": "stream",
     "text": [
      "['a', 'c', 'd']\n",
      "b\n"
     ]
    }
   ],
   "source": [
    "liste=['a','b','c','d']\n",
    "#on supprime le deuxième terme\n",
    "contenu=liste.pop(1)\n",
    "print(liste)\n",
    "print(contenu)"
   ]
  },
  {
   "cell_type": "markdown",
   "metadata": {},
   "source": [
    "### c) Trier une liste"
   ]
  },
  {
   "cell_type": "markdown",
   "metadata": {},
   "source": [
    "On peut trier une liste dans un ordre croissant en utilisant la méthode `sort()`"
   ]
  },
  {
   "cell_type": "code",
   "execution_count": null,
   "metadata": {},
   "outputs": [],
   "source": [
    "liste=['a','c','d','e','c']\n",
    "liste.sort()\n",
    "print(liste)"
   ]
  },
  {
   "cell_type": "markdown",
   "metadata": {},
   "source": [
    "***Attention :*** Cette méthode `sort()` modifie la liste en place. </p>\n",
    "Si on veut trier la liste et récupérer le resultat dans une autre liste sans modifier la première, on va utiliser la commande `sorted()`"
   ]
  },
  {
   "cell_type": "code",
   "execution_count": null,
   "metadata": {},
   "outputs": [],
   "source": [
    "liste=['a','c','d','e','c']\n",
    "#on crée une copie triée de liste que l'on place dans liste2\n",
    "liste2=sorted(liste)\n",
    "print('liste initiale :',liste)\n",
    "print('liste triée :',liste2)"
   ]
  },
  {
   "cell_type": "markdown",
   "metadata": {},
   "source": [
    "On peut modifier le sens de tri avec le paramètre `reverse` : `reverse=True` (tri décroissant) ou `reverse=False` (tri croissant).</p>\n",
    "`reverse=False` est le paramètre par défaut"
   ]
  },
  {
   "cell_type": "code",
   "execution_count": null,
   "metadata": {},
   "outputs": [],
   "source": [
    "liste=['a','c','d','e','c']\n",
    "liste.sort(reverse=True)\n",
    "print(liste)\n",
    "\n",
    "liste2=sorted(liste,reverse=False)\n",
    "print(liste2)"
   ]
  },
  {
   "cell_type": "markdown",
   "metadata": {},
   "source": [
    "## 3) Recopier une liste"
   ]
  },
  {
   "cell_type": "markdown",
   "metadata": {},
   "source": [
    "Pour recopier une liste dans une autre, une simple égalité de fonctionne pas car le python va simplement copier l'adresse mémoire de la liste et non son contenu."
   ]
  },
  {
   "cell_type": "code",
   "execution_count": 2,
   "metadata": {},
   "outputs": [
    {
     "name": "stdout",
     "output_type": "stream",
     "text": [
      "Après la copie par un =\n",
      "liste : [1, 2, 3, 4]\n",
      "liste2: [1, 2, 3, 4]\n",
      "Après modification de liste2\n",
      "liste : [4, 3, 2, 1]\n",
      "liste2 : [4, 3, 2, 1]\n"
     ]
    }
   ],
   "source": [
    "#Une copie de liste qui pose problème\n",
    "liste=[1,2,3,4]\n",
    "liste2=liste\n",
    "\n",
    "#cela semble fonctionner\n",
    "print('Après la copie par un =')\n",
    "print('liste :',liste)\n",
    "print('liste2:',liste2)\n",
    "\n",
    "#Mais si on modifie la deuxième liste en la triant dans l'ordre décroissant\n",
    "liste2.sort(reverse=True)\n",
    "#la liste d'origine est aussi modifiée\n",
    "\n",
    "print('Après modification de liste2')\n",
    "print('liste :',liste)\n",
    "print('liste2 :',liste2)"
   ]
  },
  {
   "cell_type": "markdown",
   "metadata": {},
   "source": [
    "Il faut utiliser la méthode `copy` pour copier si la liste ne contient pas de sous-liste"
   ]
  },
  {
   "cell_type": "code",
   "execution_count": 4,
   "metadata": {},
   "outputs": [
    {
     "name": "stdout",
     "output_type": "stream",
     "text": [
      "Après la copie par un .copy()\n",
      "liste : [1, 2, 3, 4]\n",
      "liste2: [1, 2, 3, 4]\n",
      "Après modification de liste2\n",
      "liste : [1, 2, 3, 4]\n",
      "liste2 : [4, 3, 2, 1]\n"
     ]
    }
   ],
   "source": [
    "#Une copie de liste qui fonctionne\n",
    "liste=[1,2,3,4]\n",
    "liste2=liste.copy()\n",
    "\n",
    "#résultat de la copie\n",
    "print('Après la copie par un .copy()')\n",
    "print('liste :',liste)\n",
    "print('liste2:',liste2)\n",
    "\n",
    "#Et si on modifie la deuxième liste en la triant dans l'ordre décroissant\n",
    "liste2.sort(reverse=True)\n",
    "#la liste d'origine n'est pas modifiée\n",
    "\n",
    "print('Après modification de liste2')\n",
    "print('liste :',liste)\n",
    "print('liste2 :',liste2)"
   ]
  },
  {
   "cell_type": "markdown",
   "metadata": {},
   "source": [
    "Par contre, si la liste contient des sous-listes, il faut utiliser la fonction `deepcopy()` du module `copy`.\n",
    "On l'appelle la ***copie récursive***."
   ]
  },
  {
   "cell_type": "code",
   "execution_count": 13,
   "metadata": {},
   "outputs": [
    {
     "name": "stdout",
     "output_type": "stream",
     "text": [
      "Après la copie par un .copy() pour liste2 et un deepcopy() pour liste3\n",
      "liste : [[1, 2], [3, 4]]\n",
      "liste2: [[1, 2], [3, 4]]\n",
      "liste3: [[1, 2], [3, 4]]\n",
      "Après modification de liste2\n",
      "liste : [[5, 2], [3, 4]]\n",
      "liste2 : [[5, 2], [3, 4]]\n",
      "liste3 : [[1, 2], [3, 4]]\n"
     ]
    }
   ],
   "source": [
    "from copy import deepcopy\n",
    "#Une copie de liste qui fonctionne\n",
    "liste=[[1,2],[3,4]]\n",
    "liste2=liste.copy()\n",
    "liste3=deepcopy(liste)\n",
    "\n",
    "#résultat de la copie\n",
    "print('Après la copie par un .copy() pour liste2 et un deepcopy() pour liste3')\n",
    "print('liste :',liste)\n",
    "print('liste2:',liste2)\n",
    "print('liste3:',liste3)\n",
    "\n",
    "#Et si on modifie la deuxième liste en changeant le premier terme de sa première sous-liste\n",
    "liste2[0][0]=5\n",
    "#la liste d'origine est aussi modifiée mais pas liste3\n",
    "\n",
    "print('Après modification de liste2')\n",
    "print('liste :',liste)\n",
    "print('liste2 :',liste2)\n",
    "print('liste3 :',liste3)"
   ]
  },
  {
   "cell_type": "markdown",
   "metadata": {},
   "source": [
    "## 4) Les compréhensions de liste"
   ]
  },
  {
   "cell_type": "markdown",
   "metadata": {},
   "source": [
    "On peut créer des listes facilement en utilisant les ***compréhensions***. </p>\n",
    "L'idée est d'automatiser la création en utilisant une ou plusieurs boucles for avec ou sans tests dans la liste."
   ]
  },
  {
   "cell_type": "code",
   "execution_count": null,
   "metadata": {},
   "outputs": [],
   "source": [
    "#On va créer la liste des nombres pairs de 0 à 100\n",
    "liste_nbs_pairs=[n for n in range(0,101,2)]\n",
    "print(liste_nbs_pairs)"
   ]
  },
  {
   "cell_type": "code",
   "execution_count": null,
   "metadata": {},
   "outputs": [],
   "source": [
    "#On va créer la liste des nombres pairs de 0 à 100\n",
    "liste_nbs_pairs=[2*n for n in range(51)]\n",
    "print(liste_nbs_pairs)"
   ]
  },
  {
   "cell_type": "code",
   "execution_count": null,
   "metadata": {},
   "outputs": [],
   "source": [
    "#on va créer la liste des nombres pairs de 0 à 100\n",
    "liste_nbs_pairs=[n for n in range(101) if n%2==0]\n",
    "print(liste_nbs_pairs)"
   ]
  },
  {
   "cell_type": "markdown",
   "metadata": {},
   "source": [
    "***Exercice 1 :*** Créer la liste des carrés des nombres de 1 à 20 en utilisant des compréhensions de listes."
   ]
  },
  {
   "cell_type": "code",
   "execution_count": null,
   "metadata": {},
   "outputs": [],
   "source": []
  },
  {
   "cell_type": "markdown",
   "metadata": {},
   "source": [
    "***Exercice 2 :*** Créer la liste des nombres impairs de 1 à 99 en utilisant des compréhensions de listes."
   ]
  },
  {
   "cell_type": "code",
   "execution_count": null,
   "metadata": {},
   "outputs": [],
   "source": []
  },
  {
   "cell_type": "markdown",
   "metadata": {},
   "source": [
    "On peut aussi créer des listes par ***répétitions*** (multiplication)"
   ]
  },
  {
   "cell_type": "code",
   "execution_count": null,
   "metadata": {},
   "outputs": [],
   "source": [
    "#on va créer une liste contenant une série de 20 zéros\n",
    "#avec une compréhension\n",
    "liste_20_zeros=[0 for i in range(20)]\n",
    "print(liste_20_zeros)\n",
    "\n",
    "#avec la multiplication\n",
    "liste_20_zeros=[0]*20\n",
    "print(liste_20_zeros)"
   ]
  },
  {
   "cell_type": "markdown",
   "metadata": {},
   "source": [
    "***Attention!*** La méthode par répétitions n'est pas adaptée à tous les contenus.</p>\n",
    "Elle est à utiliser sur les objets immuables (entiers, flottants...) mais elle est dangereuse sur les objets mutables comme les listes car elle va recopier l'adresse physique au lieu de créer un nouvel objet."
   ]
  },
  {
   "cell_type": "code",
   "execution_count": null,
   "metadata": {},
   "outputs": [],
   "source": [
    "#Exemple de code dangereux avec les répétitions\n",
    "#on veut créer un tableau à deux dimensions de 4 lignes sur 6 colonnes ne contenant que des 0.\n",
    "#Si on essaye la méthode suivante\n",
    "liste=[[0]*6]*4\n",
    "print(liste)"
   ]
  },
  {
   "cell_type": "code",
   "execution_count": null,
   "metadata": {},
   "outputs": [],
   "source": [
    "#On obtient bien un tableau de 4 sur 6 ne contenant que des zéros\n",
    "#mais lorsque que l'on modifie la premiere valeur de la première liste\n",
    "liste[0][0]=1\n",
    "print(liste)\n",
    "#Toutes les sous-listes sont modifiées à l'identique de la première\n",
    "#idem si on modifie la cinquième valeur de la troisième liste\n",
    "liste[2][5]=5\n",
    "print(liste)"
   ]
  },
  {
   "cell_type": "markdown",
   "metadata": {},
   "source": [
    "Dans ce cas, il faut mixer une répétition avec une compréhension (qui va créer une nouvelle sous-liste à chaque répétition de la boucle for)."
   ]
  },
  {
   "cell_type": "code",
   "execution_count": null,
   "metadata": {},
   "outputs": [],
   "source": [
    "liste=[[0]*6 for i in range(4)]\n",
    "print(liste)"
   ]
  },
  {
   "cell_type": "code",
   "execution_count": null,
   "metadata": {},
   "outputs": [],
   "source": [
    "#Cette fois-ci, la modification de la première valeur de la première sous-liste ne modifie bien que la valeur choisie\n",
    "liste[0][0]=1\n",
    "print(liste)"
   ]
  },
  {
   "cell_type": "markdown",
   "metadata": {},
   "source": [
    "On peut aussi le faire avec une double compréhension."
   ]
  },
  {
   "cell_type": "code",
   "execution_count": null,
   "metadata": {},
   "outputs": [],
   "source": [
    "liste=[[0 for i in range(6)] for i in range(4)]\n",
    "print(liste)\n",
    "#la modification d'une seule valeur fonctionne alors très bien\n",
    "liste[0][0]=1\n",
    "print(liste)"
   ]
  },
  {
   "cell_type": "code",
   "execution_count": null,
   "metadata": {},
   "outputs": [],
   "source": [
    "#Si la variable de la compréhension ne sert pas, on peut la remplacer par un under-score.(En réalité, c'est aussi une variable)\n",
    "liste=[[0 for _ in range(6)] for _ in range(4)]\n",
    "print(liste)"
   ]
  },
  {
   "cell_type": "markdown",
   "metadata": {},
   "source": [
    "***Exercice :*** créer une liste double $multi$ qui a pour valeur le produit de ses indices: $multi[i][j]=i\\times j$ </p>\n",
    "Vous ferez une liste de dimensions 10 lignes par 15 colonnes."
   ]
  },
  {
   "cell_type": "code",
   "execution_count": null,
   "metadata": {},
   "outputs": [],
   "source": [
    "multi=\n",
    "print(multi)"
   ]
  }
 ],
 "metadata": {
  "kernelspec": {
   "display_name": "Python 3",
   "language": "python",
   "name": "python3"
  },
  "language_info": {
   "codemirror_mode": {
    "name": "ipython",
    "version": 3
   },
   "file_extension": ".py",
   "mimetype": "text/x-python",
   "name": "python",
   "nbconvert_exporter": "python",
   "pygments_lexer": "ipython3",
   "version": "3.7.3"
  }
 },
 "nbformat": 4,
 "nbformat_minor": 2
}
