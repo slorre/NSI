{
 "cells": [
  {
   "cell_type": "markdown",
   "metadata": {},
   "source": [
    "# Les différentes numérations #"
   ]
  },
  {
   "cell_type": "markdown",
   "metadata": {},
   "source": [
    "Nous allons étudier principalement trois numérations :<br>\n",
    "    - Le système décimal (base 10)\n",
    "    - Le système binaire (base 2)\n",
    "    - Le système hexadécimal (base 16) \n",
    "Pour les différentier, nous noterons en indice la base utilisée"
   ]
  },
  {
   "cell_type": "markdown",
   "metadata": {},
   "source": [
    "## I - La numération binaire des entiers ##"
   ]
  },
  {
   "cell_type": "markdown",
   "metadata": {},
   "source": [
    "On nomme couramment **bit** (de l'anglais *binary digit*, soit « chiffre binaire ») les chiffres de la numération binaire positionnelle. Un bit peut prendre deux valeurs, notées par convention 0 et 1. <br>\n",
    "\n",
    "Le système binaire est utile pour représenter le fonctionnement de l'électronique numérique utilisée dans les ordinateurs. Il est donc utilisé par les langages de programmation de bas niveau.<br>\n",
    "\n",
    "La décomposition est basée sur les puissances de 2 en commençant par $2^0$ à droite.<br>\n",
    "<br>\n",
    "Dans la suite du document, on notera les nombres en base 2 sur un octet (groupe de huit 0 ou 1) sauf information contraire.<br>\n",
    "\n",
    "Un groupe de 8 bits est appelé un **octet**. Il permet de stocker 256 valeurs : de 0 (tous les bits 0) jusqu'à 255 (tous les bits à 1)\n"
   ]
  },
  {
   "cell_type": "markdown",
   "metadata": {},
   "source": [
    "### a) Conversion du binaire vers le décimal"
   ]
  },
  {
   "cell_type": "markdown",
   "metadata": {},
   "source": [
    "| $2^7$ | $2^6$ | $2^5$ | $2^4$ | $2^3$ | $2^2$ | $2^1$ | $2^0$ | En base 10       |\n",
    "|:-----:|:-----:|:-----:|:-----:|:-----:|:-----:|:-----:|:-----:|------------------|\n",
    "|  128  |   64  |   32  |   16  |   8   |   4   |   2   |   1   |                  |\n",
    "|   1   |   0   |   1   |   0   |   0   |   1   |   0   |   1   | =128+32+4+1 =165 |\n",
    "|   0   |   0   |   0   |   1   |   1   |   0   |   1   |   0   | =16+8+2 =26      |"
   ]
  },
  {
   "cell_type": "markdown",
   "metadata": {},
   "source": [
    "$10100101_2=165_{10}$<br>\n",
    "$00011010_2=26_2$"
   ]
  },
  {
   "cell_type": "markdown",
   "metadata": {},
   "source": [
    "**Exercice - Convertir en base 10**"
   ]
  },
  {
   "cell_type": "markdown",
   "metadata": {},
   "source": [
    "$01001111_2$=\n",
    "<br>\n",
    "$10000001_2$="
   ]
  },
  {
   "cell_type": "markdown",
   "metadata": {},
   "source": [
    "**Exercice 2 - Ecrire une fonction en Python pour convertir un nombre noté en base 2 vers un nombre en base 10**"
   ]
  },
  {
   "cell_type": "code",
   "execution_count": null,
   "metadata": {},
   "outputs": [],
   "source": [
    "def bin2dec(nbre):\n",
    "    \"\"\" Convertit une chaine de caractères contenant un nombre noté en base 2 sur un octet, en nombre en base 10\n",
    "        renvoie None si le nbre n'est pas convertible \"\"\"\n",
    "    \n",
    "    # Info prog : On note les puissances avec **\n",
    "    # ex 2 puissance 5 se calculera par 2**5\n",
    "    \n",
    "    # On teste si le nbre passé en paramètre est bien au format attendu\n",
    "    # le booleen octet doit rester vrai pour valider le bon format\n",
    "    octet = len(nbre)==8 #la longueur doit être de 8\n",
    "    if octet: #Le premier test de longueur est validé\n",
    "        for bit in nbre:\n",
    "            octet=octet and (bit in ['0','1']) #On vérifie que le nbre ne contient que des 0 et des 1.\n",
    "    \n",
    "    if Not octet:\n",
    "        #le format n'est pas bon\n",
    "        return None\n",
    "    else:\n",
    "        #Le format est correct, on peut convertir\n",
    "        # on initialise la variable de la réponse à 0\n",
    "        reponse = 0\n",
    "        ######### mon code ####################\n",
    "    \n",
    "    \n",
    "    \n",
    "    \n",
    "    \n",
    "    \n",
    "        ######### fin de mon code ############\n",
    "        \n",
    "        # on renvoie le résultat obtenu\n",
    "        return reponse\n",
    "    \n",
    "# Pour tester\n",
    "nbre_base2=\"00000001\"    \n",
    "print(nbre_base2,\" (2) = \",bin2dec(nombre_base2),\" (10)\")\n",
    "\n",
    "nbre_base2=\"01001111\"    \n",
    "print(nbre_base2,\" (2) = \",bin2dec(nombre_base2),\" (10)\")\n",
    "\n",
    "nbre_base2=\"111111111\"    \n",
    "print(nbre_base2,\" (2) = \",bin2dec(nombre_base2),\" (10)\")\n"
   ]
  },
  {
   "cell_type": "markdown",
   "metadata": {},
   "source": [
    "### b) Conversion décimal vers binaire"
   ]
  },
  {
   "cell_type": "markdown",
   "metadata": {},
   "source": [
    "Pour convertir du décimal en binaire, on peut effectuer une série de divisions euclidiennes par 2. On notera le reste puis on repartira du quotient pour la nouvelle étape.\n",
    "Il ne restera qu'à former le nombre binaire avec les restes en commençant par noter le dernier reste en premier."
   ]
  },
  {
   "cell_type": "markdown",
   "metadata": {},
   "source": [
    "**Exemple :**<br>\n",
    "$140=2\\times70+0$<br>\n",
    "$70=2\\times35+0$<br>\n",
    "$35=2\\times17+1$<br>\n",
    "$17=2\\times8+1$<br>\n",
    "$8=2\\times4+0$<br>\n",
    "$4=2\\times2+0$<br>\n",
    "$2=2\\times1+0$<br>\n",
    "$1=2\\times0+1$ **Attention**, il faut aller jusqu'au quotient nul<br>\n",
    "\n",
    "On obtient $10001100_2=140_{10}$\n"
   ]
  },
  {
   "cell_type": "markdown",
   "metadata": {},
   "source": [
    "**Exercice : Convertir en binaire**"
   ]
  },
  {
   "cell_type": "markdown",
   "metadata": {},
   "source": [
    "$215_{10}=$\n",
    "<br>\n",
    "$27_{10}=$"
   ]
  },
  {
   "cell_type": "markdown",
   "metadata": {},
   "source": [
    "En Python, il existe une fonction qui permet des nombres en binaire, il s'agit de `bin()`<br>\n",
    "Vous remarquerez que le python rajoute le préfixe `0b` lorsqu'il écrit un nombre en base 2."
   ]
  },
  {
   "cell_type": "code",
   "execution_count": 4,
   "metadata": {},
   "outputs": [
    {
     "name": "stdout",
     "output_type": "stream",
     "text": [
      "0b11010111\n",
      "0b11011\n"
     ]
    }
   ],
   "source": [
    "#On va convertir le nombre 215 (base 10) en base 2\n",
    "print(bin(215))\n",
    "#On va convertir le nombre 27 (base 10) en base 2\n",
    "print(bin(27))"
   ]
  },
  {
   "cell_type": "markdown",
   "metadata": {},
   "source": [
    "**Exercice 2 : Ecrire votre propre fonction en Python pour convertir du décimal en binaire**"
   ]
  },
  {
   "cell_type": "code",
   "execution_count": null,
   "metadata": {},
   "outputs": [],
   "source": [
    "def Dec2Bin(nbre):\n",
    "    \"\"\"Convertit un nombre entier en base 10 en une chaine de caractères contenant le nombre noté en base 2\"\"\"\n",
    "    # Info prog : On effectue les divisions euclidiennes avec // et %\n",
    "    # // donne le quotient : 7//2 = 3\n",
    "    # % donne le reste : 7%2 = 1\n",
    "    \n",
    "    #On intialise la réponse à vide\n",
    "    reponse=''\n",
    "    ######### mon code ####################\n",
    "    \n",
    "    \n",
    "    \n",
    "    \n",
    "    \n",
    "    \n",
    "    ######### fin de mon code ############\n",
    "    # on renvoie la réponse\n",
    "    return reponse\n",
    "    \n",
    "    \n",
    "# Pour tester\n",
    "nbre_base10=140    \n",
    "print(nbre_base10,\" (10) = \",dec2bin(nombre_base10),\" (2)\")\n",
    "\n",
    "nbre_base10=215    \n",
    "print(nbre_base10,\" (10) = \",dec2bin(nombre_base10),\" (2)\")\n",
    "\n",
    "nbre_base10=27    \n",
    "print(nbre_base10,\" (10) = \",dec2bin(nombre_base10),\" (2)\")"
   ]
  },
  {
   "cell_type": "markdown",
   "metadata": {},
   "source": [
    "## II - La numération hexadécimale des entiers"
   ]
  },
  {
   "cell_type": "markdown",
   "metadata": {},
   "source": [
    "Le **système hexadécimal** est un système de numération positionnel en base 16. Il utilise ainsi 16 symboles, en général les chiffres arabes pour les dix premiers chiffres et les lettres A à F pour les six suivants.\n",
    "\n",
    "Le système hexadécimal est utilisé notamment en électronique numérique et en informatique car il est particulièrement commode et permet un compromis entre le code binaire des machines et une base de numération pratique à utiliser pour les ingénieurs. En effet, chaque chiffre hexadécimal correspond exactement à quatre chiffres binaires (ou bits), rendant les conversions très simples et fournissant une écriture plus compacte. L'hexadécimal a été utilisé la première fois en 1956 par les ingénieurs de l'ordinateur Bendix G-15.\n",
    "> Définition - Wikipédia <br>\n",
    "\n",
    "Les seize premiers nombres de cette base 16 sont donc 0, 1, 2, 3, 4, 5, 6, 7, 8, 9, A, B, C, D, E et F."
   ]
  },
  {
   "cell_type": "markdown",
   "metadata": {},
   "source": [
    "### a) Conversion du binaire en hexadécimal"
   ]
  },
  {
   "cell_type": "markdown",
   "metadata": {},
   "source": [
    "On va grouper les bits qui composent le nombre binaire par 4. Chaque groupe de 4 bits peut prendre 16 valeurs ce qui simplifie grandement la conversion."
   ]
  },
  {
   "cell_type": "markdown",
   "metadata": {},
   "source": [
    "|   Binaire   | $0000_2$ | $0001_2$ | $0010_2$ | $0011_2$ | $0100_2$ | $0101_2$ | $0110_2$ | $0111_2$ | $1000_2$ | $1001_2$ |  $1010_2$ |  $1011_2$ |  $1100_2$ |  $1101_2$ |  $1110_2$ |  $1111_2$ |\n",
    "|:-----------:|:--------:|:--------:|:--------:|:--------:|:--------:|:--------:|:--------:|:--------:|:--------:|:--------:|:---------:|:---------:|:---------:|:---------:|:---------:|:---------:|\n",
    "|   Décimal   | $0_{10}$ | $1_{10}$ | $2_{10}$ | $3_{10}$ | $4_{10}$ | $5_{10}$ | $6_{10}$ | $7_{10}$ | $8_{10}$ | $9_{10}$ | $10_{10}$ | $11_{10}$ | $12_{10}$ | $13_{10}$ | $14_{10}$ | $15_{10}$ |\n",
    "| Hexadécimal | $0_{16}$ | $1_{16}$ | $2_{16}$ | $3_{16}$ | $4_{16}$ | $5_{16}$ | $6_{16}$ | $7_{16}$ | $8_{16}$ | $9_{16}$ |  $A_{16}$ |  $B_{16}$ |  $C_{16}$ |  $D_{16}$ |  $E_{16}$ |  $F_{16}$ |"
   ]
  },
  {
   "cell_type": "markdown",
   "metadata": {},
   "source": [
    "Un octet binaire (8 bits) se notera donc avec deux lettres ou chiffres en hexadécimal."
   ]
  },
  {
   "cell_type": "markdown",
   "metadata": {},
   "source": [
    "**Exemple :** <br>\n",
    "$1101$ $0111_2$=$D7_{16}$ <br>\n",
    "$0101$ $1010_2$=$5A_{16}$"
   ]
  },
  {
   "cell_type": "markdown",
   "metadata": {},
   "source": [
    "**Exercice : Convertir en hexadécimal**"
   ]
  },
  {
   "cell_type": "markdown",
   "metadata": {},
   "source": [
    "$0100$ $1011_2$=\n",
    "<br>\n",
    "$1111$ $0111_2$="
   ]
  },
  {
   "cell_type": "markdown",
   "metadata": {},
   "source": [
    "En python, on peut convertir un nombre en base 16 grâce à la fonction `hex()`.<br>\n",
    "Vous remarquerez que le python utilise le préfixe `0x`pour écrire un nombre en base 16."
   ]
  },
  {
   "cell_type": "code",
   "execution_count": 7,
   "metadata": {},
   "outputs": [
    {
     "name": "stdout",
     "output_type": "stream",
     "text": [
      "0x8be\n",
      "0x4b\n"
     ]
    }
   ],
   "source": [
    "#On va convertir le nombre 2238 (base 10) en hexadécimal\n",
    "print(hex(2238))\n",
    "#On va convertir le nombre 01001011 (base 2) en hexadécimal\n",
    "print(hex(0b01001011))"
   ]
  },
  {
   "cell_type": "markdown",
   "metadata": {},
   "source": [
    "**Exercice 2 : Ecrire votre propre fonction de conversion d'un nombre binaire noté sur un octet en une chaine de caractères en hexadécimal**"
   ]
  },
  {
   "cell_type": "code",
   "execution_count": null,
   "metadata": {},
   "outputs": [],
   "source": [
    "def Bin2Hex(nbre):\n",
    "    \"\"\" Convertit une chaine de caractères contenant un nombre noté en base 2 sur un octet, en chaine de deux caractères\n",
    "        contenant le nombre en base 16,\n",
    "        renvoie None si le nbre n'est pas convertible \"\"\"\n",
    "    \n",
    "    # On teste si le nbre passé en paramètre est bien au format attendu\n",
    "    # le booleen octet doit rester vrai pour valider le bon format\n",
    "    octet = len(nbre)==8 #la longueur doit être de 8\n",
    "    if octet: #Le premier test de longueur est validé\n",
    "        for bit in nbre: #On parcourt tous les caractères de nbre\n",
    "            octet=octet and (bit in ['0','1']) #On vérifie que le nbre ne contient que des 0 et des 1.\n",
    "    \n",
    "    if Not octet:\n",
    "        #le format n'est pas bon\n",
    "        return None\n",
    "    else:\n",
    "        #Le format est correct, on peut convertir\n",
    "        # on initialise la variable de la réponse à vide\n",
    "        reponse = ''\n",
    "        \n",
    "        \n",
    "                         \n",
    "                        \n",
    "        \n",
    "        # on renvoie le résultat obtenu\n",
    "        return reponse\n",
    "    \n",
    "# Pour tester\n",
    "nbre_base2=\"00000001\"    \n",
    "print(nbre_base2,\" (2) = \",bin2hex(nombre_base2),\" (16)\")\n",
    "\n",
    "nbre_base2=\"01001111\"    \n",
    "print(nbre_base2,\" (2) = \",bin2hex(nombre_base2),\" (16)\")\n",
    "\n",
    "nbre_base2=\"111111111\"    \n",
    "print(nbre_base2,\" (2) = \",bin2hex(nombre_base2),\" (16)\")"
   ]
  }
 ],
 "metadata": {
  "kernelspec": {
   "display_name": "Python 3",
   "language": "python",
   "name": "python3"
  },
  "language_info": {
   "codemirror_mode": {
    "name": "ipython",
    "version": 3
   },
   "file_extension": ".py",
   "mimetype": "text/x-python",
   "name": "python",
   "nbconvert_exporter": "python",
   "pygments_lexer": "ipython3",
   "version": "3.7.3"
  }
 },
 "nbformat": 4,
 "nbformat_minor": 2
}
