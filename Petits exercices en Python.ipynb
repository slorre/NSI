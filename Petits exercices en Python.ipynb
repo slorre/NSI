{
 "cells": [
  {
   "cell_type": "markdown",
   "metadata": {},
   "source": [
    "# Petits exercices en Python"
   ]
  },
  {
   "cell_type": "markdown",
   "metadata": {},
   "source": [
    "**Exercice**<br>\n",
    "On va créer une fonction qui renvoie le nombre de divisions par 2 que l'on peut effectuer sur le nombre entier positif passé en paramètre<br>\n",
    "Rappel :\n",
    "- Le quotient d'une division euclidienne se fait avec l'opérateur //<br>\n",
    "    Ex 15//2 donne 7\n",
    "- Le reste de la division euclidienne se fait avec l'opérateur %<br>\n",
    "    Ex 15%2 donne 1\n"
   ]
  },
  {
   "cell_type": "code",
   "execution_count": null,
   "metadata": {},
   "outputs": [],
   "source": [
    "def nombre_divisions_par_2(nbr):\n",
    "    \"\"\"renvoie le nombre de divisions par 2 que l'on peut effectuer sur le nombre entier positif passé en paramètre\"\"\"\n",
    "    # On initialise le compteur de divisions à 0\n",
    "    nb_div_2=0\n",
    "    \n",
    "    \n",
    "    \n",
    "    return nb_div_2\n",
    "\n",
    "# Tests\n",
    "print(nombre_divisions_par_2(16)) # Doit renvoyer 4\n",
    "print(nombre_divisions_par_2(15)) # Doit renvoyer 0\n",
    "print(nombre_divisions_par_2(12)) # Doit renvoyer 3"
   ]
  },
  {
   "cell_type": "markdown",
   "metadata": {},
   "source": [
    "---------------"
   ]
  },
  {
   "cell_type": "markdown",
   "metadata": {},
   "source": [
    "**Exercice**<br>\n",
    "On va créer une fonction qui précise si l'année passée en paramètre est une année bissextile.<br>\n",
    "Info : Une année est bissextile si elle se divise par 4 mais pas par 100 sauf les millénaires qui sont bissextiles.\n",
    "\n"
   ]
  },
  {
   "cell_type": "code",
   "execution_count": null,
   "metadata": {},
   "outputs": [],
   "source": [
    "def bissextile(annee):\n",
    "    \"\"\"Renvoie True si l'annee est bissextile, False sinon\"\"\"\n",
    "    \n",
    "    \n",
    "    return\n",
    "\n",
    "#tests\n",
    "print(bissextile(1980))\n",
    "print(bissextile(2000))\n",
    "print(bissextile(2100))\n",
    "print(bissextile(2003))\n",
    "    "
   ]
  },
  {
   "cell_type": "markdown",
   "metadata": {},
   "source": [
    "-------------"
   ]
  },
  {
   "cell_type": "markdown",
   "metadata": {},
   "source": [
    "**Exercice**<br>\n",
    "On va construire un petit jeu de Pierre, Feuille, Ciseau<br>\n",
    "L'ordinateur devra choisir au hasard un des trois cas (On peut utiliser un nombre aléatoire entre 1 et 3).<br>\n",
    "Le programme doit ensuite afficher \"1 : Pierre, 2 : Ciseau, 3 : Feuille\" et demander à l'utilisateur de choisir 1, 2 ou 3.<br>\n",
    "Le programme doit terminer en affichant qui a gagné : 'Ordinateur gagne' ou 'Joueur gagne'.<br>\n",
    "Rappel : Pierre gagne sur Ciseau, Ciseau gagne sur Feuille et Feuille gagne sur Pierre"
   ]
  },
  {
   "cell_type": "markdown",
   "metadata": {},
   "source": [
    "from random import randint\n"
   ]
  }
 ],
 "metadata": {
  "kernelspec": {
   "display_name": "Python 3",
   "language": "python",
   "name": "python3"
  },
  "language_info": {
   "codemirror_mode": {
    "name": "ipython",
    "version": 3
   },
   "file_extension": ".py",
   "mimetype": "text/x-python",
   "name": "python",
   "nbconvert_exporter": "python",
   "pygments_lexer": "ipython3",
   "version": "3.7.3"
  }
 },
 "nbformat": 4,
 "nbformat_minor": 2
}
