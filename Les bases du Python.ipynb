{
 "cells": [
  {
   "cell_type": "markdown",
   "metadata": {},
   "source": [
    "# Les bases du Python"
   ]
  },
  {
   "cell_type": "markdown",
   "metadata": {},
   "source": [
    "## I) Les notations"
   ]
  },
  {
   "cell_type": "markdown",
   "metadata": {},
   "source": [
    "En python, il existe une norme de notation du code. On l'appelle PEP8."
   ]
  },
  {
   "cell_type": "markdown",
   "metadata": {},
   "source": [
    "### 1. La mise en page"
   ]
  },
  {
   "cell_type": "markdown",
   "metadata": {},
   "source": [
    "Une ligne doit contenir 80 caractères maximum.\n",
    "L'indentation doit être de 4 espaces.\n",
    "Les fonctions doivent être séparées par une ligne vide."
   ]
  },
  {
   "cell_type": "markdown",
   "metadata": {},
   "source": [
    "### 2. Les variables"
   ]
  },
  {
   "cell_type": "markdown",
   "metadata": {},
   "source": [
    "Les variables sont notées en minuscules avec des underscores pour remplacer les espaces qui sont eux interdits. On peut utiliser les chiffres mais pas commencer par eux.\n",
    "Les symboles opéatoires +,-,*,/ sont bien sûr interdits eux aussi. Ainsi que la ponctuation.\n",
    "On évitera les accents même s'ils sont acceptés."
   ]
  },
  {
   "cell_type": "code",
   "execution_count": null,
   "metadata": {},
   "outputs": [],
   "source": [
    "#Des variables bien notées\n",
    "\n",
    "variable1 = 5\n",
    "ma_variable = 'coucou'\n",
    "\n",
    "#Des variables mal notées mais acceptées par l'interpréteur\n",
    "\n",
    "Variable1 = 5\n",
    "MaVariable = 'bonjour'\n",
    "été = 'chaud'\n",
    "\n",
    "#Des variables refusées par l'interpréteur\n",
    "1variable = 5\n",
    "ma-variable = 'bye'\n",
    "ma variable = 5.0"
   ]
  },
  {
   "cell_type": "markdown",
   "metadata": {},
   "source": [
    "### 3. Les constantes"
   ]
  },
  {
   "cell_type": "markdown",
   "metadata": {},
   "source": [
    "Les constantes sont notées en majuscules.\n",
    "**Attention** Certaines constantes du système sont notées avec seulement leur initiale en majuscule "
   ]
  },
  {
   "cell_type": "code",
   "execution_count": null,
   "metadata": {},
   "outputs": [],
   "source": [
    "PI = 3.14\n",
    "# Les booléens Vrai et Faux sont notés True et False\n",
    "test = True\n"
   ]
  },
  {
   "cell_type": "markdown",
   "metadata": {},
   "source": [
    "### 4. Les fonctions"
   ]
  },
  {
   "cell_type": "markdown",
   "metadata": {},
   "source": [
    "Les fonctions sont notées comme les variables : en minuscules et avec des underscores."
   ]
  },
  {
   "cell_type": "markdown",
   "metadata": {},
   "source": [
    "### 5. Les commentaires et documentations"
   ]
  },
  {
   "cell_type": "markdown",
   "metadata": {},
   "source": [
    "On essayera de commenter au maximum son code afin de faciliter sa compréhension ou sa maintenance future."
   ]
  },
  {
   "cell_type": "markdown",
   "metadata": {},
   "source": [
    "A chaque fonction, on commencera par un `docstring` qui n'est rien d'autre qu'un commentaire encadré par trois guillemets et qui va servir à documenter ce que doit faire la fonction et la façon de l'utiliser."
   ]
  },
  {
   "cell_type": "code",
   "execution_count": null,
   "metadata": {},
   "outputs": [],
   "source": [
    "def ma_fonction():\n",
    "    \"\"\" Cette doc-string doit permettre de coomprendre l'utilité de ma fonction et les paramètres de celle-ci \n",
    "        On peut la poursuivre sur plusieurs lignes \"\"\"\n",
    "    \n",
    "    #Ce commentaire permet de comprendre ce que la ligne suivante va faire, ici on va initialiser un compteur à 0\n",
    "    compteur = 0"
   ]
  },
  {
   "cell_type": "markdown",
   "metadata": {},
   "source": [
    "### 6. Les modules importés"
   ]
  },
  {
   "cell_type": "markdown",
   "metadata": {},
   "source": [
    "Les modules seront importés dès le début du code.\n",
    "On peut importer l'intégralité d'un module ou simplement une fonction de celui-ci."
   ]
  },
  {
   "cell_type": "code",
   "execution_count": null,
   "metadata": {},
   "outputs": [],
   "source": [
    "#Importe toute la librairie random avec toutes ses fonctions et constantes\n",
    "#et lui donne un nouveau nom rnd qui sera le préfixe à utiliser ensuite pour accéder aux fonctions.\n",
    "import random as rnd\n",
    "\n",
    "nombre_aleatoire = rnd.randint(1,6)\n",
    "print(nombre_aleatoire)"
   ]
  },
  {
   "cell_type": "code",
   "execution_count": null,
   "metadata": {},
   "outputs": [],
   "source": [
    "#Importe seulement la fonction randint() de la librairie random\n",
    "from random import randint\n",
    "\n",
    "nombre_aleatoire = randint(1,6)\n",
    "print(nombre_aleatoire)"
   ]
  },
  {
   "cell_type": "markdown",
   "metadata": {},
   "source": [
    "## II) Les tests"
   ]
  },
  {
   "cell_type": "markdown",
   "metadata": {},
   "source": [
    "### 1. Les opérateurs de tests"
   ]
  },
  {
   "cell_type": "markdown",
   "metadata": {},
   "source": [
    "Les différents tests sont les suivants\n",
    "* l'égalité se teste par un `==`\n",
    "* la différence se teste par un `!=`\n",
    "* inférieur se teste par `<` \n",
    "* supérieur se teste par `>`\n",
    "* inférieur ou égal par `<=`\n",
    "* supérieur ou égal par `>=`\n",
    "* *x* entre *a* et *b* peut se tester par `a<x<b`\n",
    "* `Not` permet de prendre la négation du booléen(test) qui le suit."
   ]
  },
  {
   "cell_type": "markdown",
   "metadata": {},
   "source": [
    "On peut lier différents tests par des `and` ou des `or` et les grouper avec des parenthèses."
   ]
  },
  {
   "cell_type": "markdown",
   "metadata": {},
   "source": [
    "### 2. La fonction `if`"
   ]
  },
  {
   "cell_type": "markdown",
   "metadata": {},
   "source": [
    "Pour faire un test, on va utiliser la fonction `if` suivi du test voulu et d'un `:`.\n",
    "Le code à effectuer si le test est vérifié devra être indenté ensuite.\n",
    "La fin de l'indentation marque la fin des commandes à effectuer."
   ]
  },
  {
   "cell_type": "code",
   "execution_count": null,
   "metadata": {},
   "outputs": [],
   "source": [
    "a= int(input('Entrer un nombre relatif : '))\n",
    "#on va afficher 'Positif' si le nombre saisi est positif mais rien si celui-ci est négatif\n",
    "if a>=0:\n",
    "    print('Positif')"
   ]
  },
  {
   "cell_type": "markdown",
   "metadata": {},
   "source": [
    "On peut ajouter un `else:` si on veut effectuer du code lorsque le test n'est pas vérifié."
   ]
  },
  {
   "cell_type": "code",
   "execution_count": null,
   "metadata": {},
   "outputs": [],
   "source": [
    "a= int(input('Entrer un nombre relatif : '))\n",
    "#on va afficher 'Positif' si le nombre saisi est positif et 'Négatif' dans le cas contraire\n",
    "if a>=0:\n",
    "    print('Positif')\n",
    "else:\n",
    "    print('Négatif')"
   ]
  },
  {
   "cell_type": "markdown",
   "metadata": {},
   "source": [
    "On peut aussi enchaîner plusieurs tests avec la commande `elif` suivi d'un nouveau test. C'est l'abréviation de `else: if`"
   ]
  },
  {
   "cell_type": "code",
   "execution_count": null,
   "metadata": {},
   "outputs": [],
   "source": [
    "a= int(input('Entrer un nombre relatif : '))\n",
    "#on va afficher 'Nul' si le nombre choisi est 0, \n",
    "#'Strictement positif' si le nombre saisi est >0 et 'Strictement négatif' dans le cas contraire\n",
    "if a==0:\n",
    "    print('Nul')\n",
    "elif a>0:\n",
    "    print('Strictement positif')\n",
    "else:\n",
    "    print('Strictement négatif')"
   ]
  },
  {
   "cell_type": "markdown",
   "metadata": {},
   "source": [
    "**Exercice - Déterminer le signe d'une image par une fonction grâce à un tableau de signes**"
   ]
  },
  {
   "cell_type": "markdown",
   "metadata": {},
   "source": [
    "On a étudié la fonction $f$ et on a obtenu le tableau de signes suivant : <br/>\n",
    "$f\\left({x}\\right)$ s'annule en 2 et 5, elle est strictement positive sur $\\left]-\\infty;2\\right[$ et sur $\\left]5;+\\infty\\right[$ et elle est strictement négative sur $\\left]2;5\\right[$.<br/>\n",
    "Ecrire un proigramme qui donne le signe de l'image par f d'un nombre saisi par l'utilisateur."
   ]
  },
  {
   "cell_type": "code",
   "execution_count": null,
   "metadata": {},
   "outputs": [],
   "source": [
    "#on saisi un antécédent\n",
    "nb=float(input(\"De quel nombre réel voulez-vous le signe de l'image ? : \"))\n",
    "#On affiche positif, nul ou négatif en fonction du signe de l'image de nb par f\n",
    "\n",
    "\n"
   ]
  },
  {
   "cell_type": "markdown",
   "metadata": {},
   "source": [
    "## III) Les boucles"
   ]
  },
  {
   "cell_type": "markdown",
   "metadata": {},
   "source": [
    "### 1. Les boucles `for`"
   ]
  },
  {
   "cell_type": "markdown",
   "metadata": {},
   "source": [
    "Une boucle `for`permet un nombre de répétitions connu lors de son utilisation. Elle travaille sur des objets que l'on appelle **iterables**. On parcourt les différentes valeurs de cet itérable grâce au mot clé `in`"
   ]
  },
  {
   "cell_type": "code",
   "execution_count": null,
   "metadata": {},
   "outputs": [],
   "source": [
    "for i in range(5):\n",
    "    print(i)\n",
    "    \n",
    "print('---')\n",
    "\n",
    "for animal in ['chien','chat','poisson']:\n",
    "    print(animal)\n",
    "\n",
    "print('---')\n",
    "    \n",
    "for lettre in 'ma phrase':\n",
    "    print(lettre)"
   ]
  },
  {
   "cell_type": "markdown",
   "metadata": {},
   "source": [
    "**Attention** Il est interdit de modifier la variable de la boucle `for` à l'intérieur de celle-ci. Cela n'aurait aucun effet à part compliquer la compréhension."
   ]
  },
  {
   "cell_type": "code",
   "execution_count": null,
   "metadata": {},
   "outputs": [],
   "source": [
    "for i in range(5):\n",
    "    print(i)\n",
    "    # on essaye d'augmenter de 5 la variable i\n",
    "    i=i+5"
   ]
  },
  {
   "cell_type": "markdown",
   "metadata": {},
   "source": [
    "### 2. Les boucles `while`"
   ]
  },
  {
   "cell_type": "markdown",
   "metadata": {},
   "source": [
    "Ce type de boucle s'execute tant qu'un test est vérifié. Il peut être nécessaire d'initialiser les variables du test avant d'entrer la première fois dans la boucle."
   ]
  },
  {
   "cell_type": "code",
   "execution_count": null,
   "metadata": {},
   "outputs": [],
   "source": [
    "#Par exemple : une question attendant un O ou un N pour continuer\n",
    "\n",
    "#On initialise la variable à vide pour rentrer dans la boucle\n",
    "reponse=''\n",
    "while reponse!='O' and reponse!='N':\n",
    "    reponse=input('Voulez-vous continuer? (O/N) : ')"
   ]
  },
  {
   "cell_type": "markdown",
   "metadata": {},
   "source": [
    "-----"
   ]
  },
  {
   "cell_type": "markdown",
   "metadata": {},
   "source": [
    "## Mini projet : Retrouver le nombre"
   ]
  },
  {
   "cell_type": "markdown",
   "metadata": {},
   "source": [
    "L'ordinateur doit choisir un nombre aléatoire entre 0 et 100.\n",
    "Ensuite, il doit poser une question à l'utilisateur lui demandant de chosir un nombre entre 0 et 100.\n",
    "Si le nombre proposé est plus petit que le nombre choisi par l'odinateur, il doit afficher 'Trop petit'.\n",
    "De même si le nombre est trop grand, il doit afficher 'Trop grand'\n",
    "En cas d'égalité, il doit annoncer 'BRAVO!' et s'arrêter."
   ]
  },
  {
   "cell_type": "code",
   "execution_count": null,
   "metadata": {},
   "outputs": [],
   "source": [
    "#Import de la librairie\n",
    "\n",
    "\n",
    "\"\"\" Mon nombre caché\"\"\"\n",
    "\n"
   ]
  }
 ],
 "metadata": {
  "celltoolbar": "Format de la Cellule Texte Brut",
  "kernelspec": {
   "display_name": "Python 3",
   "language": "python",
   "name": "python3"
  },
  "language_info": {
   "codemirror_mode": {
    "name": "ipython",
    "version": 3
   },
   "file_extension": ".py",
   "mimetype": "text/x-python",
   "name": "python",
   "nbconvert_exporter": "python",
   "pygments_lexer": "ipython3",
   "version": "3.7.3"
  }
 },
 "nbformat": 4,
 "nbformat_minor": 2
}
