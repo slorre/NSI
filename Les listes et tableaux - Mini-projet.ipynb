{
 "cells": [
  {
   "cell_type": "markdown",
   "metadata": {},
   "source": [
    "# Les listes et tableaux"
   ]
  },
  {
   "cell_type": "markdown",
   "metadata": {},
   "source": [
    "### Mini projet : Développement d'une puissance de fonction affine : $(ax+b)^n$"
   ]
  },
  {
   "cell_type": "markdown",
   "metadata": {},
   "source": [
    "**Première partie** : Le triangle de Pascal<br>\n",
    "Il est formé de coefficients qui commencent à 1;1 et qui à chaque niveau, s'obtiennent par somme des coefficients situés au dessus dans la ligne précédente.<br>\n",
    "On commence au rang 1:<br>\n",
    "$$1~~~~~1$$<br>\n",
    "$$1~~~~~2~~~~~1$$<br>\n",
    "$$1~~~~~3~~~~~3~~~~~1$$<br>\n",
    "$$1~~~~~4~~~~~6~~~~~4~~~~~1$$<br>\n",
    "$$1~~~~~5~~~~10~~~~~10~~~~5~~~~~1$$ "
   ]
  },
  {
   "cell_type": "markdown",
   "metadata": {},
   "source": [
    "Commençons par créer une fonction qui calcule la ligne suivante dans le triangle de Pascal"
   ]
  },
  {
   "cell_type": "code",
   "execution_count": null,
   "metadata": {},
   "outputs": [],
   "source": [
    "def ligne_suivante_triangle_Pascal(ligne):\n",
    "    \"\"\" renvoie la ligne suivant celle passée en paramètre dans le triangle de Pascal\"\"\"\n",
    "    #On initialise la ligne suivante\n",
    "    ligne_suivante=[]\n",
    "    ########### Mon code ##############\n",
    "    \n",
    "    \n",
    "    \n",
    "    ########### fin de mon code ############\n",
    "    #on renvoie le résultat\n",
    "    return ligne_suivante\n",
    "\n",
    "print(ligne_suivante([1,1])) #[1,2,1]\n",
    "print(ligne_suivante([1,4,6,4,1])) #[1,5,10,10,5,1]"
   ]
  },
  {
   "cell_type": "markdown",
   "metadata": {},
   "source": [
    "Il ne reste qu'à l'intégrer dans une fonction qui détermine le triangle de Pascal complet jusqu'au rang $n$"
   ]
  },
  {
   "cell_type": "code",
   "execution_count": 6,
   "metadata": {},
   "outputs": [
    {
     "name": "stdout",
     "output_type": "stream",
     "text": [
      "[[1, 1]]\n",
      "[[1, 1]]\n"
     ]
    }
   ],
   "source": [
    "def triangle_Pascal(n):\n",
    "    \"\"\" Renvoie sous la forme d'une liste des listes de coefficients,\n",
    "    le triangle de Pascal en fonction du rang n passé en paramètre\"\"\"\n",
    "    #On initialise la liste globale pour le renvoi\n",
    "    resultat=[[1,1]]\n",
    "    #on repète\n",
    "    ########### Mon code ##############\n",
    "    \n",
    "    \n",
    "    \n",
    "    ########### fin de mon code ############\n",
    "    #on renvoie le résultat\n",
    "    return resultat\n",
    "\n",
    "print(triangle_Pascal(2))\n",
    "\n",
    "print(triangle_Pascal(5))\n"
   ]
  },
  {
   "cell_type": "markdown",
   "metadata": {},
   "source": [
    "**Deuxième partie** : Le développement de la puissance de fonction affine : $(ax+b)^n$<br>\n",
    "<br>\n",
    "Si on regarde le développement de $(a+b)^2=a^2+2ab+b^2$,<br>\n",
    "puis celui de $(a+b)^3=a^3+3a^2b+3ab^2+b^3$<br>\n",
    "et enfin celui de $(a+b)^4=a^4+4a^3b+6a^2b^2+4ab^3+b^4$, on peut retrouver les coefficients du triangle de Pascal.<br>\n",
    "<br>\n",
    "On peut généraliser par $(ax+b)^2=a^2x^2+2abx+b^2$,<br>\n",
    "$(ax+b)^3=a^3x^3+3a^2bx^2+3ab^2x+b^3$,<br>\n",
    "$(ax+b)^4=a^4x^4+4a^3bx^3+6a^2b^2x^2+4ab^3x+b^4$.\n"
   ]
  },
  {
   "cell_type": "markdown",
   "metadata": {},
   "source": [
    "On peut améliorer l'écriture du développement en créant une fonction qui va adapter la notation de chaque monôme en fonction de la position, de la valeur et du signe du coefficient ainsi que de l'exposant des $x$:<br>\n",
    "ex $-1x^2$ devra s'écrire $-x^2$ ; <br>\n",
    "$3x^4+-5x^2$ devra s'écrire $3x^4-5x^2$<br>\n",
    "cette fonction pourra être appelée lors de la création de la chaine du développement"
   ]
  },
  {
   "cell_type": "code",
   "execution_count": null,
   "metadata": {},
   "outputs": [],
   "source": [
    "def monome(position,coef,exposant):\n",
    "    \"\"\"renvoie sous forme de chaine de caractère, le monôme ax^n en fonction de sa position (commence à 1),\n",
    "    de son coef(a) et de l'exposant(n)\"\"\" \n",
    "    #on initialise la chaine qui va stocker le monôme\n",
    "    resultat=\"\"\n",
    "    \n",
    "    ########### Mon code ##############\n",
    "    \n",
    "    \n",
    "    \n",
    "    ########### fin de mon code ############\n",
    "    #on renvoie la chaine contenant le monôme mis en forme\n",
    "    return resultat\n",
    "\n",
    "print(monome(1,-5,2)) #-5x^2\n",
    "\n",
    "print(monome(1,3,4)) #3x^4\n",
    "\n",
    "print(monome(2,3,4)) #+3x^4 , il faut penser à ajouter le + pour la somme avec les monômes précédents\n",
    "\n",
    "print(monome(6,1,2)) #+x^2\n",
    "\n",
    "print(monome(1,1,1)) #x\n",
    "\n",
    "print(monome(2,-1,1)) #-x\n",
    "\n",
    "print(monome(3,-2,0)) #-2"
   ]
  },
  {
   "cell_type": "code",
   "execution_count": 8,
   "metadata": {},
   "outputs": [
    {
     "name": "stdout",
     "output_type": "stream",
     "text": [
      "(2x+5)^3=\n"
     ]
    }
   ],
   "source": [
    "def developpement(a,b,n):\n",
    "    \"\"\"affiche le développement de (ax+b)^n\"\"\"\n",
    "    #on construit le triangle de pascal afin de connaître les coefficients adaptés\n",
    "    liste_coefs_Pascal=triangle_Pascal(n)\n",
    "    #on initialise la chaine de caractères contenant le développement en y intégrant la forme factorisée passée en paramètre\n",
    "    developpe=\"(\"+monome(1,a,1)+monome(2,b,0)+\")^\"+str(n)+\"=\"\n",
    "    ########### Mon code ##############\n",
    "    \n",
    "    \n",
    "    \n",
    "    ########### fin de mon code ############\n",
    "    #on affiche le développement\n",
    "    print(developpe)\n",
    "    \n",
    "#on appelle la fonction pour (2x+5)^3\n",
    "developpement(2,5,3)\n",
    "    "
   ]
  },
  {
   "cell_type": "markdown",
   "metadata": {},
   "source": [
    "---------------------"
   ]
  },
  {
   "cell_type": "markdown",
   "metadata": {},
   "source": [
    "**Exercice bonus** : <br>\n",
    "Ecrire un programme qui attend une liste L et qui affiche les effectifs cumulés des différents éléments de la liste sous forme de bâtons constitués d'étoiles.<br>\n",
    "Par exemple, si L = [13 , 15 , 12 , 17 , 15 , 18 , 15 , 17 , 13 , 12 , 15 ] , le programme affiche :<br>"
   ]
  },
  {
   "cell_type": "raw",
   "metadata": {},
   "source": [
    "**12\n",
    "**13\n",
    "****15\n",
    "**17\n",
    "*18"
   ]
  },
  {
   "cell_type": "code",
   "execution_count": null,
   "metadata": {},
   "outputs": [],
   "source": []
  }
 ],
 "metadata": {
  "kernelspec": {
   "display_name": "Python 3",
   "language": "python",
   "name": "python3"
  },
  "language_info": {
   "codemirror_mode": {
    "name": "ipython",
    "version": 3
   },
   "file_extension": ".py",
   "mimetype": "text/x-python",
   "name": "python",
   "nbconvert_exporter": "python",
   "pygments_lexer": "ipython3",
   "version": "3.7.3"
  }
 },
 "nbformat": 4,
 "nbformat_minor": 2
}
