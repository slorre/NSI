{
 "cells": [
  {
   "cell_type": "markdown",
   "metadata": {},
   "source": [
    "# les dictionnaires en Python\n",
    "## Qu'est-ce qu'un dictionnaire?\n",
    "\n",
    "Un <U>dictionnaire</U> est un type de données qui associe une <strong>clé unique</strong> à un autre objet (valeur, liste, autre dictionnaire...).\n",
    "Une clé peut être un nombre, une chaine, un tuple,...\n",
    "\n",
    "Il utilise les accolades { } comme délimitateurs et un : pour séparer la clé de sa valeur.\n",
    "\n",
    "La syntaxe d'un dictionnaire est <strong>Dico = {cle1: valeur1, cle2: valeur2, cle3: valeur3}</strong> \n",
    "\n",
    "On accède ensuite aux valeurs par leurs clés respectives <strong>Dico[cle1]</strong>\n",
    "\n",
    "Exemple de dictionnaire :\n"
   ]
  },
  {
   "cell_type": "code",
   "execution_count": null,
   "metadata": {},
   "outputs": [],
   "source": [
    "#On peut créer un dictionnaire de cette façon\n",
    "dico={'nombre1':5, 'nombre2':9}  #  mettre 'nombre1' entre apostrophe peut perturber ... non ?\n",
    "\n",
    "dico"
   ]
  },
  {
   "cell_type": "code",
   "execution_count": null,
   "metadata": {},
   "outputs": [],
   "source": [
    "#On va cherche la valeur correspondant à la clé 'nombre1'\n",
    "dico['nombre1']"
   ]
  },
  {
   "cell_type": "markdown",
   "metadata": {},
   "source": [
    "Attention, si la clé n'existe pas dans le dictionnaire, on obtient un message d'erreur."
   ]
  },
  {
   "cell_type": "code",
   "execution_count": null,
   "metadata": {},
   "outputs": [],
   "source": [
    "# --> cela force a suivre les étapes\n",
    "dico['nombre3']"
   ]
  },
  {
   "cell_type": "markdown",
   "metadata": {},
   "source": [
    "On peut modifier la valeur associée à une clé."
   ]
  },
  {
   "cell_type": "code",
   "execution_count": null,
   "metadata": {},
   "outputs": [],
   "source": [
    "#Modifions la valeur correspondant à la clé 'nombre1'\n",
    "print('avant modification : ',dico['nombre1'])\n",
    "\n",
    "dico['nombre1']+=1\n",
    "\n",
    "print('après modification : ',dico['nombre1'])"
   ]
  },
  {
   "cell_type": "markdown",
   "metadata": {},
   "source": [
    "Le principal intérêt d'un dictonnaire, outre la facilité d'accès à chaque valeur, est la vitesse de l'accès à celle-ci.\n",
    "\n",
    "<u>Exemple</u> : On donne une liste de communes associées à leur code postal. On va rechercher le code postal de la ville de Clisson (qui se trouve vers la fin de la liste) et calculer la différence de rapidité entre une recherche dans une liste et la même recherche dans un dictionnaire équivalent.\n",
    "\n",
    "<strong>Attention, la routine de comparaison peut prendre du temps.</strong>"
   ]
  },
  {
   "cell_type": "code",
   "execution_count": null,
   "metadata": {},
   "outputs": [],
   "source": [
    "Liste=[('NANTES',44000),('CHATEAUBRIANT',44110),('ERBRAY',44110),('LOUISFERT',44110),('NOYAL SUR BRUTZ',44110),('SOUDAN',44110),\n",
    "   ('ST AUBIN DES CHATEAUX',44110),('VILLEPOT',44110),('BASSE GOULAINE',44115),('HAUTE GOULAINE',44115),('VIEILLEVIGNE',44116),\n",
    "   ('ST ANDRE DES EAUX',44117),('LA CHEVROLIERE',44118),('GRANDCHAMPS DES FONTAINES',44119),('TREILLIERES',44119),\n",
    "   ('VERTOU',44120),('BLAIN',44130),('BOUVRON',44130),('FAY DE BRETAGNE',44130),('LE GAVRE',44130),\n",
    "   ('NOTRE DAME DES LANDES',44130),('AIGREFEUILLE SUR MAINE',44140),('GENESTON',44140),('LA PLANCHE',44140),('LE BIGNON',44140),\n",
    "   ('MONTBERT',44140),('REMOUILLE',44140),('ANCENIS',44150),('ST GEREON',44150),('VAIR SUR LOIRE',44150),('BESNE',44160),\n",
    "   ('CROSSAC',44160),('PONTCHATEAU',44160),('STE ANNE SUR BRIVET',44160),('STE REINE DE BRETAGNE',44160),('ABBARETZ',44170),\n",
    "   ('JANS',44170),('LA GRIGONNAIS',44170),('MARSAC SUR DON',44170),('NOZAY',44170),('TREFFIEUX',44170),('VAY',44170),\n",
    "   ('BOUSSAY',44190),('CLISSON',44190),('GETIGNE',44190),('GORGES',44190),('ST HILAIRE DE CLISSON',44190),\n",
    "   ('ST LUMINE DE CLISSON',44190)]\n",
    "\n",
    "Dico={'NANTES':44000,'CHATEAUBRIANT':44110,'ERBRAY':44110,'LOUISFERT':44110,'NOYAL SUR BRUTZ':44110,'SOUDAN':44110,\n",
    "   'ST AUBIN DES CHATEAUX':44110,'VILLEPOT':44110,'BASSE GOULAINE':44115,'HAUTE GOULAINE':44115,'VIEILLEVIGNE':44116,\n",
    "   'ST ANDRE DES EAUX':44117,'LA CHEVROLIERE':44118,'GRANDCHAMPS DES FONTAINES':44119,'TREILLIERES':44119,\n",
    "   'VERTOU':44120,'BLAIN':44130,'BOUVRON':44130,'FAY DE BRETAGNE':44130,'LE GAVRE':44130,\n",
    "   'NOTRE DAME DES LANDES':44130,'AIGREFEUILLE SUR MAINE':44140,'GENESTON':44140,'LA PLANCHE':44140,'LE BIGNON':44140,\n",
    "   'MONTBERT':44140,'REMOUILLE':44140,'ANCENIS':44150,'ST GEREON':44150,'VAIR SUR LOIRE':44150,'BESNE':44160,\n",
    "   'CROSSAC':44160,'PONTCHATEAU':44160,'STE ANNE SUR BRIVET':44160,'STE REINE DE BRETAGNE':44160,'ABBARETZ':44170,\n",
    "   'JANS':44170,'LA GRIGONNAIS':44170,'MARSAC SUR DON':44170,'NOZAY':44170,'TREFFIEUX':44170,'VAY':44170,\n",
    "   'BOUSSAY':44190,'CLISSON':44190,'GETIGNE':44190,'GORGES':44190,'ST HILAIRE DE CLISSON':44190,'ST LUMINE DE CLISSON':44190}\n",
    "\n",
    "from timeit import timeit\n",
    "\n",
    "def recherche_CP_dans_Liste(Liste,ville):\n",
    "    i=0\n",
    "    while i<len(Liste) and Liste[i][0]!=ville:\n",
    "        i+=1\n",
    "    if i!=len(Liste):\n",
    "        CP = Liste[i][1]\n",
    "        return CP\n",
    "    else:\n",
    "        return 0\n",
    "\n",
    "def recherche_CP_dans_Dico(Dico,ville):\n",
    "    if ville in Dico:\n",
    "        CP = Dico[ville]\n",
    "        return CP\n",
    "    else:\n",
    "        return 0\n",
    "\n",
    "###### Ville recherchée #######\n",
    "ville='CLISSON'\n",
    "    \n",
    "#Calcul du temps d'execution de la recherche dans la Liste\n",
    "temps_liste =timeit('recherche_CP_dans_Liste(Liste,ville)', setup=\"from __main__ import recherche_CP_dans_Liste, Liste, ville\")\n",
    "print('Liste :', temps_liste)\n",
    "\n",
    "#Calcul du temps d'execution de la recherche dans le dictionnaire\n",
    "temps_dico=timeit('recherche_CP_dans_Dico(Dico,ville)', setup=\"from __main__ import recherche_CP_dans_Dico, Dico, ville\")\n",
    "print('Dico :', temps_dico)\n",
    "\n",
    "print('Soit {}x plus rapide pour la recherche dans le dictionnaire sur cet exemple.'.format(int(temps_liste/temps_dico)))\n",
    "\n"
   ]
  },
  {
   "cell_type": "markdown",
   "metadata": {},
   "source": [
    "### Création d'un dictionnaire\n",
    "On a vu, dans l'exemple précédent, que l'on peut créer un dictionnaire déjà rempli dans le code mais on peut aussi le créer de façon dynamique.\n",
    "\n",
    "Pour cela, on peut commencer par créer un <U>dictionnaire vide</U> : <strong>dico={}</strong> ou <strong>dico=dict()</strong>."
   ]
  },
  {
   "cell_type": "code",
   "execution_count": null,
   "metadata": {},
   "outputs": [],
   "source": [
    "dico2={}\n",
    "dico2"
   ]
  },
  {
   "cell_type": "code",
   "execution_count": null,
   "metadata": {},
   "outputs": [],
   "source": [
    "dico3=dict()\n",
    "dico3"
   ]
  },
  {
   "cell_type": "markdown",
   "metadata": {},
   "source": [
    "On peut aussi créer un dictionnaire à partir d'une liste de couples (liste de liste ou liste de tuple):"
   ]
  },
  {
   "cell_type": "code",
   "execution_count": null,
   "metadata": {},
   "outputs": [],
   "source": [
    "L=[['un',1], ['deux',2]] # liste de couple/liste\n",
    "T=[('un',1), ('deux',2)] # liste de tuple\n",
    "dl=dict(L)\n",
    "print('dl=',dl)\n",
    "dt=dict(T)\n",
    "print('dt=',dt)"
   ]
  },
  {
   "cell_type": "markdown",
   "metadata": {},
   "source": [
    "Attention aux doublons de clefs : Seule la dernière valeur d'une clef en double sera mémorisée dans le dictionnaire, les valeurs des clefs en doublons précédentes seront écrasées.Exemple :"
   ]
  },
  {
   "cell_type": "code",
   "execution_count": null,
   "metadata": {},
   "outputs": [],
   "source": [
    "L=[['un',1], ['deux',2], ['un',25]] # liste de couple/liste avec doublons\n",
    "dl=dict(L)\n",
    "print('dl=',dl)"
   ]
  },
  {
   "cell_type": "markdown",
   "metadata": {},
   "source": [
    "### Ajout d'une nouvelle clé\n",
    "On peut alors ajouter une nouvelle clé mais attention, si celle-ci existe déjà, on efface le contenu précédent."
   ]
  },
  {
   "cell_type": "code",
   "execution_count": null,
   "metadata": {},
   "outputs": [],
   "source": [
    "dico2['cle1']=5\n",
    "dico2"
   ]
  },
  {
   "cell_type": "code",
   "execution_count": null,
   "metadata": {},
   "outputs": [],
   "source": [
    "dico2['cle1']=6\n",
    "dico2"
   ]
  },
  {
   "cell_type": "markdown",
   "metadata": {},
   "source": [
    "### Test d'existence d'une clé\n",
    "Pour éviter d'effacer le contenu déjà associé à une clé, on peut tester auparavant si la clé existe déjà en utilsant le mot clé <strong>in</strong>."
   ]
  },
  {
   "cell_type": "code",
   "execution_count": null,
   "metadata": {},
   "outputs": [],
   "source": [
    "dico={'nombre1':5, 'nombre2':9}\n",
    "'nombre1' in dico"
   ]
  },
  {
   "cell_type": "code",
   "execution_count": null,
   "metadata": {},
   "outputs": [],
   "source": [
    "'nombre3' in dico"
   ]
  },
  {
   "cell_type": "markdown",
   "metadata": {},
   "source": [
    "Exemple : Supposons que nous voulions regrouper les différentes valeurs de la liste L en additionnant les valeurs associées au même premier terme."
   ]
  },
  {
   "cell_type": "code",
   "execution_count": null,
   "metadata": {},
   "outputs": [],
   "source": [
    "L=[('cle1',5),('cle2',7),('cle1',6),('cle3',1),('cle2',10)]\n",
    "dico=dict()\n",
    "\n",
    "for cle,val in L:\n",
    "    if cle in dico:\n",
    "        #Si la cle est deja dans le dictionnaire, on ajoute la valeur\n",
    "        dico[cle]+=val\n",
    "    else:\n",
    "        #sinon, on crée la cle avec sa valeur\n",
    "        dico[cle]=val\n",
    "\n",
    "dico"
   ]
  },
  {
   "cell_type": "markdown",
   "metadata": {},
   "source": [
    "### Suppression d'une clé\n",
    "Pour supprimer une clé 'cle' et sa valeur, on utilise <strong>del dico['cle']</strong> ou <strong>dico.pop('cle')</strong>.\n",
    "La méthode pop permet de récupérer la valeur associée à la clé lors de la suppression."
   ]
  },
  {
   "cell_type": "code",
   "execution_count": null,
   "metadata": {},
   "outputs": [],
   "source": [
    "dico={'nombre1':5, 'nombre2':9}\n",
    "del dico['nombre1']\n",
    "dico"
   ]
  },
  {
   "cell_type": "code",
   "execution_count": null,
   "metadata": {},
   "outputs": [],
   "source": [
    "dico={'nombre1':5, 'nombre2':9}\n",
    "valeur=dico.pop('nombre2')\n",
    "print(valeur)\n",
    "print(dico)"
   ]
  },
  {
   "cell_type": "markdown",
   "metadata": {},
   "source": [
    "### Longueur d'un dictionnaire\n",
    "On récupère la longueur d'un dictionnaire (nombre de couples clés/valeurs) par la fonction <strong>len(dict)</strong>:"
   ]
  },
  {
   "cell_type": "code",
   "execution_count": null,
   "metadata": {},
   "outputs": [],
   "source": [
    "dico={'nombre1':5, 'nombre2':9}\n",
    "print('longueur du dictionnaire =', len(dico))"
   ]
  },
  {
   "cell_type": "markdown",
   "metadata": {},
   "source": [
    "### Parcours d'un dictionnaire\n",
    "\n",
    "Si on veut récupérer l'ensemble des clés d'un dictionnaire dans une liste, on utilise <strong>dico.keys()</strong>"
   ]
  },
  {
   "cell_type": "code",
   "execution_count": null,
   "metadata": {},
   "outputs": [],
   "source": [
    "dico={'nombre1':5, 'nombre2':9}\n",
    "dico.keys()"
   ]
  },
  {
   "cell_type": "markdown",
   "metadata": {},
   "source": [
    "Pour récupérer l'ensemble des valeurs dans une liste, on utilise <strong>dico.values()</strong>"
   ]
  },
  {
   "cell_type": "code",
   "execution_count": null,
   "metadata": {},
   "outputs": [],
   "source": [
    "dico.values()"
   ]
  },
  {
   "cell_type": "markdown",
   "metadata": {},
   "source": [
    "On peut récupérer l'ensemble des clé et valeurs dans une liste avec <strong>dico.items()</strong>"
   ]
  },
  {
   "cell_type": "code",
   "execution_count": null,
   "metadata": {},
   "outputs": [],
   "source": [
    "dico.items()"
   ]
  },
  {
   "cell_type": "markdown",
   "metadata": {},
   "source": [
    "Cela permet de récupérer les différentes valeurs chacunes leur tour avec des boucles for."
   ]
  },
  {
   "cell_type": "code",
   "execution_count": null,
   "metadata": {},
   "outputs": [],
   "source": [
    "#On liste les clés\n",
    "for cle in dico.keys():\n",
    "    print(cle)"
   ]
  },
  {
   "cell_type": "code",
   "execution_count": null,
   "metadata": {},
   "outputs": [],
   "source": [
    "#On liste les valeurs\n",
    "for val in dico.values():\n",
    "    print(val)"
   ]
  },
  {
   "cell_type": "code",
   "execution_count": null,
   "metadata": {},
   "outputs": [],
   "source": [
    "for cle,val in dico.items():\n",
    "    print('La clé',cle,'est associée à la valeur',val)"
   ]
  },
  {
   "cell_type": "markdown",
   "metadata": {},
   "source": [
    "## Exercices\n",
    "Idées :<br>\n",
    "1- Compter les lettres dans une phrase/texte<br>\n",
    "2- (plus dur en autonomie a la maison? : ) compter les mots dans un texte<br>\n",
    "3- Vers la fin : dans un dico nom/prenom, corriger la faute de Jacque en Jacques<br>\n",
    "4- Récupérer la liste des éléments distincts d'une liste de départ (avec doublons)<br>\n",
    "5- Vers la fin, ou en plus : faire un graphique des resultats (histogramme)<br>\n",
    "6- <br>\n",
    "10-Mini projets : <br>\n",
    "a- agenda telephonique avec IHM, annuaire inversé<br>\n",
    "b- liste des fichiers, indexation, IHM des doublons, recherche d'un fichier/dossier ...etc...\n",
    "...<br>"
   ]
  },
  {
   "cell_type": "markdown",
   "metadata": {},
   "source": [
    "Exercice :\n",
    "\n",
    "    Déterminer le nombre d'apparition de chaque lettre dans le texte suivant (extrait de \"Qu'ai je donc fait?\" de Jean d'Ormesson).\n",
    "    \n",
    "    «Qu'ai-je donc fait ? J'ai aimé l'eau, la lumière, le soleil, les matins d'été, les ports, la douceur du soir dans les collines et une foule de détails sans le moindre intérêt comme cet olivier très rond     dont je me souviens encore dans la baie de Fethiye ou un escalier bleu et blanc flanqué de deux fontaines dans un village des Pouilles dont j'ai oublié le nom. Je ne regrette ni d'être venu ni de devoir repartir vers quelque chose d'inconnu dont personne, grâce à Dieu, n'a jamais pu rien savoir. J'ai trouvé la vie très belle et assez longue à mon goût. J'ai eu de la chance. Merci. J'ai commis des fautes et des erreurs. Pardon. Pensez à moi de temps en temps. Saluez le monde pour moi quand je ne serai plus là. C'est une drôle de machine à faire verser des larmes de sang et à rendre fou de bonheur. Je me retourne encore une fois sur ce temps perdu et gagné et je me dis, je me trompe peut-être, qu'il m'a donné - comme ça, pour rien, avec beaucoup de grâce et de bonne volonté - ce qu'il y a eu de meilleur de toute éternité : la vie d'un homme parmi les autres.»\n",
    "    \n",
    "    Vous ferez la différence entre les différentes lettres accentuées. Mais par contre, pas de différence entre les majuscules et les minuscules."
   ]
  },
  {
   "cell_type": "code",
   "execution_count": null,
   "metadata": {},
   "outputs": [],
   "source": []
  }
 ],
 "metadata": {
  "kernelspec": {
   "display_name": "Python 3",
   "language": "python",
   "name": "python3"
  },
  "language_info": {
   "codemirror_mode": {
    "name": "ipython",
    "version": 3
   },
   "file_extension": ".py",
   "mimetype": "text/x-python",
   "name": "python",
   "nbconvert_exporter": "python",
   "pygments_lexer": "ipython3",
   "version": "3.7.3"
  }
 },
 "nbformat": 4,
 "nbformat_minor": 2
}
