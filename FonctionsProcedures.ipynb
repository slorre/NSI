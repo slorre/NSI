{
 "cells": [
  {
   "cell_type": "markdown",
   "metadata": {},
   "source": [
    "# Fonctions et procédures"
   ]
  },
  {
   "cell_type": "markdown",
   "metadata": {
    "collapsed": true
   },
   "source": [
    "Pour *nommer* une partie de programme, et la réutiliser autant de fois que nécessaire, on utilise la notion de **fonction** ou de **procédure**.\n",
    "\n",
    "La différence entre les deux se situe au niveau de l'exécution : l'exécution d'une fonction est une expression, qui a donc une valeur; l'exécution d'une procédure est une instruction, qui produit donc un effet.\n",
    "\n",
    "Les deux notions sont mises en oeuvre en Python, avec la seule notion de fonction. \n",
    "\n",
    "* la définition d'une fonction en Python commence par le mot clé ``def`` et est suivi de nom de la fonction et de l'indication de ses paramètres.\n",
    "\n",
    "* l'appel d'une fonction, consiste à en déclencher l'exécution, avec des valeurs particulières des paramètres.\n",
    "\n",
    "Le mot clé ``return`` permet de définir la valeur qui sera rendue à l'appel de la fonction. La clause ``return`` est optionnelle et n'est pas utilisée dans le cas des procédures."
   ]
  },
  {
   "cell_type": "markdown",
   "metadata": {},
   "source": [
    "**Exemple** : fonction retournant une valeur"
   ]
  },
  {
   "cell_type": "code",
   "execution_count": null,
   "metadata": {},
   "outputs": [],
   "source": [
    "def triple(x):\n",
    "    return(3*x)"
   ]
  },
  {
   "cell_type": "code",
   "execution_count": null,
   "metadata": {},
   "outputs": [],
   "source": [
    "triple(12)"
   ]
  },
  {
   "cell_type": "code",
   "execution_count": null,
   "metadata": {},
   "outputs": [],
   "source": [
    "triple(triple(2))"
   ]
  },
  {
   "cell_type": "markdown",
   "metadata": {},
   "source": [
    "**Exemple** : procédure affichant tous les entiers strictement positifs jusqu'à un entier donné (inclus)."
   ]
  },
  {
   "cell_type": "code",
   "execution_count": null,
   "metadata": {},
   "outputs": [],
   "source": [
    "def enumere(n):\n",
    "    for i in range(1,n+1):\n",
    "        print(i)"
   ]
  },
  {
   "cell_type": "code",
   "execution_count": null,
   "metadata": {},
   "outputs": [],
   "source": [
    "enumere(5)"
   ]
  },
  {
   "cell_type": "markdown",
   "metadata": {},
   "source": [
    "**Exemple** : Définition d'une fonction affine par morceaux. Une définition de fonction peut contenir pluesieurs clauses ``return``. "
   ]
  },
  {
   "cell_type": "code",
   "execution_count": null,
   "metadata": {},
   "outputs": [],
   "source": [
    "def f(x):\n",
    "    if x <= 1 :\n",
    "        return(0.0)\n",
    "    elif x <= 3 :\n",
    "        return(x - 1.0) \n",
    "    elif x <= 4 :\n",
    "        return(5.0 - x)\n",
    "    else :\n",
    "        return(1.0)\n",
    "        \n",
    "for i in range (6):\n",
    "    print(f(i))"
   ]
  },
  {
   "cell_type": "markdown",
   "metadata": {},
   "source": [
    "Les définitions de fonctions peuvent être **récursives**, c'est à dire contenir un (ou plusieurs) appel(s) à la fonction en cours de définition. Il faut dans ce cas prévoir que le calcul se termine pour un ensemble de cas *simples* sans appel récursif, pour éviter un calcul infini."
   ]
  },
  {
   "cell_type": "code",
   "execution_count": null,
   "metadata": {},
   "outputs": [],
   "source": [
    "def pgcd (a,b):\n",
    "    if b==0 :\n",
    "        return(a)\n",
    "    else :\n",
    "        return pgcd(b, a%b)\n",
    "\n",
    "pgcd(456,246)"
   ]
  },
  {
   "cell_type": "markdown",
   "metadata": {},
   "source": [
    "Les fonctions s'appliquant à un objet pour en modifier la valeur, s'appellent des **méthodes**. L'appel d'une méthode se fait par la notation pointée ``objet.méthode()``. La définition de méthodes s'apparente à la définition de fonctions.\n",
    "\n",
    "En langage Python, le mécanisme de passage de paramètre à l'exécution d'une fonction est très élaboré et permet :\n",
    "* des paramètres repérés par leur position,\n",
    "* des paramètres en nombre variable, référencés dans le corps de la fonction sous forme de liste,\n",
    "* des paramètres optionnels repérés pas un mot clé et ayant une valeur par défaut,\n",
    "* des paramètres nommés, référencés dans le corps de la fonction sous forme de liste d'association ou dictionnaire.\n",
    "\n",
    "A l'appel, les paramètres de position doivent être placés avant les paramètres introduits par un mot clé. L'exemple de la fonction ``print`` illustre 2 des modes."
   ]
  },
  {
   "cell_type": "code",
   "execution_count": null,
   "metadata": {},
   "outputs": [],
   "source": [
    "print(\"Bonjour\")\n",
    "print(1,2,3)\n",
    "print (1,2,3,4,5,sep=\"/\")"
   ]
  },
  {
   "cell_type": "markdown",
   "metadata": {},
   "source": [
    "La fonction ``print`` admet un nombre quelconque de paramètres plus quelques paramètres nommés permettant de préciser par exemple le séparateur à utiliser. On peut constater que le paramètre ``sep`` a une valeur par défaut ``\" \"``"
   ]
  },
  {
   "cell_type": "markdown",
   "metadata": {},
   "source": [
    "Equipe pédagoqique DIU EIL, ressource éducative libre distribuée sous [Licence Creative Commons Attribution - Pas d’Utilisation Commerciale - Partage dans les Mêmes Conditions 4.0 International](http://creativecommons.org/licenses/by-nc-sa/4.0/) ![Licence Creative Commons](https://i.creativecommons.org/l/by-nc-sa/4.0/88x31.png)"
   ]
  }
 ],
 "metadata": {
  "kernelspec": {
   "display_name": "Python 3",
   "language": "python",
   "name": "python3"
  },
  "language_info": {
   "codemirror_mode": {
    "name": "ipython",
    "version": 3
   },
   "file_extension": ".py",
   "mimetype": "text/x-python",
   "name": "python",
   "nbconvert_exporter": "python",
   "pygments_lexer": "ipython3",
   "version": "3.6.7"
  }
 },
 "nbformat": 4,
 "nbformat_minor": 1
}
