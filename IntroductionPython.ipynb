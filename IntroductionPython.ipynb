{
 "cells": [
  {
   "cell_type": "markdown",
   "metadata": {},
   "source": [
    "# Introduction au langage Python\n",
    "\n",
    "La documentation officielle du langage est disponible sur [le site python.org](https://www.python.org/)\n",
    "\n",
    "De nombreuses ressources en français sont référencées sur la page : [Python en Français](https://wiki.python.org/moin/FrenchLanguage)\n",
    "\n",
    "Cette introduction couvre l'ensemble des notions au programme de la classe de seconde en mathématiques et en sciences numériques et technologie ainsi que la notion de liste au programme de mathématiques de la classe de première."
   ]
  },
  {
   "cell_type": "markdown",
   "metadata": {},
   "source": [
    "## Utilisation des notebooks\n",
    "\n",
    "Un notebook est une suite de cellules pouvant chacune contenir du texte ou un fragment de programme. L'objectif est de mettre à disposition des programmes commentés et de voir leur exécution au sein même du document.\n",
    "\n",
    "Pour exécuter la cellule courante, utiliser la commande ``Run`` ou le raccourci ``Maj Entree``. Les fragments de programmes sont interprétés dans le même environnement d'exécution dans l'ordre demandé par l'utilisateur.\n",
    "L'interprète du langage Python exécute les instructions et affiche les valeurs des expressions données.\n",
    "\n",
    "- Exécuter les 2 cellules ci-dessous pour tester le bon fonctionnement du serveur auquel ce notebook est connecté."
   ]
  },
  {
   "cell_type": "code",
   "execution_count": null,
   "metadata": {},
   "outputs": [],
   "source": [
    "x = 12"
   ]
  },
  {
   "cell_type": "code",
   "execution_count": null,
   "metadata": {},
   "outputs": [],
   "source": [
    "x ** 2 + 2 * x + 3"
   ]
  },
  {
   "cell_type": "markdown",
   "metadata": {},
   "source": [
    "La première cellule ``Entrée [1]`` contient une **instruction** (ici une affectation) dont l'exécution a certainement un effet sur la mémoire mais aucun retour visible de l'interprète.\n",
    "\n",
    "La deuxième cellule ``Entrée [2]``contient une **expression** dont l'évaluation dépend de la valeur des variables et dont le résultat s'affiche sous la cellule avec l'indication ``out[2]``."
   ]
  },
  {
   "cell_type": "markdown",
   "metadata": {},
   "source": [
    "**Remarque** : les notebooks peuvent être librement modifiés pour tester en direct ses propres expressions et instructions. \n",
    "\n",
    "Lors de l'utilisation depuis m@gistere, le rechargement permet de retrouver un notebook dans son état initial.\n",
    "\n",
    "Lors de l'utilisation depuis un serveur Jupyter installé localement, il est possible de sauvegarder ses modifications.\n",
    "\n",
    "**Note** : les notebooks sont un outil de l'enseignant permettant de montrer et commenter simplement les possibilités du langage, sans necessité d'installation locale. Cet outil n'est cependant pas particulièrement destiné à un usage par les élèves."
   ]
  },
  {
   "cell_type": "markdown",
   "metadata": {},
   "source": [
    "## Eléments du langage Python\n",
    "\n",
    "Les notebooks suivants (voir menu à gauche) décrivent les expressions du langage - dont l'exécution donne une valeur - et les instructions - dont l'exécution a un effet.\n",
    "\n",
    "- Expressions et types de base\n",
    "- Instructions élémentaires et composées"
   ]
  },
  {
   "cell_type": "markdown",
   "metadata": {},
   "source": [
    "Les notebooks suivants détaillent les moyens élémentaires pour structurer des programmes avec des fonctions ainsi que quelques structures de données disponibles.\n",
    "\n",
    "- Fonctions et procédures\n",
    "- Listes et tableaux"
   ]
  },
  {
   "cell_type": "markdown",
   "metadata": {},
   "source": [
    "Equipe pédagoqique DIU EIL, ressource éducative libre distribuée sous [Licence Creative Commons Attribution - Pas d’Utilisation Commerciale - Partage dans les Mêmes Conditions 4.0 International](http://creativecommons.org/licenses/by-nc-sa/4.0/) ![Licence Creative Commons](https://i.creativecommons.org/l/by-nc-sa/4.0/88x31.png)"
   ]
  }
 ],
 "metadata": {
  "kernelspec": {
   "display_name": "Python 3",
   "language": "python",
   "name": "python3"
  },
  "language_info": {
   "codemirror_mode": {
    "name": "ipython",
    "version": 3
   },
   "file_extension": ".py",
   "mimetype": "text/x-python",
   "name": "python",
   "nbconvert_exporter": "python",
   "pygments_lexer": "ipython3",
   "version": "3.6.7"
  }
 },
 "nbformat": 4,
 "nbformat_minor": 1
}
