{
 "cells": [
  {
   "cell_type": "markdown",
   "metadata": {},
   "source": [
    "# Instructions élémentaires et composées"
   ]
  },
  {
   "cell_type": "markdown",
   "metadata": {},
   "source": [
    "Les instructions élémentaires en Python comportent :\n",
    "- l'affectation notée ``=`` qui autorise en fait une multi-affectation en parallèle : l'ensemble des valeurs en partie droite sont évaluées puis affectées aux variables en partie gauche."
   ]
  },
  {
   "cell_type": "code",
   "execution_count": null,
   "metadata": {},
   "outputs": [],
   "source": [
    "a = 12"
   ]
  },
  {
   "cell_type": "code",
   "execution_count": null,
   "metadata": {},
   "outputs": [],
   "source": [
    "a, b = a + 1, 2 * a"
   ]
  },
  {
   "cell_type": "code",
   "execution_count": null,
   "metadata": {},
   "outputs": [],
   "source": [
    "b"
   ]
  },
  {
   "cell_type": "markdown",
   "metadata": {},
   "source": [
    "* l'écriture élémentaire est effectuée par la fonction ``print`` qui admet plusieurs paramètres.\n",
    "\n",
    "Remarque : cette instruction n'est utile que dans le contexte où le programmeur veut faire afficher un résultat intermédiaire en cours de calcul ou veut faire un programme interactif. Dans le cas d'une résultat unique, l'interprète l'affiche à la fin du calcul, sans besoin d'utiliser la fonction ``print``."
   ]
  },
  {
   "cell_type": "markdown",
   "metadata": {},
   "source": [
    "* la lecture élémentaire est effectuée par la fonction ``input`` qui renvoit une chaîne de caractères. A convertir par la fonction ``int`` en entier ou par la fonction ``float`` pour obtenir un flottant.\n",
    "\n",
    "Remarque : cette instruction n'est utile que dans le cadre d'un programme interactif qui demande successivement plusieurs valeurs à l'utilisateur. L'interprète Python permet de saisir directement les données d'un calcul."
   ]
  },
  {
   "cell_type": "code",
   "execution_count": null,
   "metadata": {},
   "outputs": [],
   "source": [
    "x = int(input('Donne un nombre : '))"
   ]
  },
  {
   "cell_type": "code",
   "execution_count": null,
   "metadata": {},
   "outputs": [],
   "source": [
    "print(x*2)"
   ]
  },
  {
   "cell_type": "markdown",
   "metadata": {},
   "source": [
    "## Syntaxe et indentation\n",
    "\n",
    "Chaque langage de programmation définit par des régles de **syntaxe**, les phrases du langage qui seront considérées comme correctes du point de vue de leur forme, et auxquelles il sera éventuellement possible de donner un sens en terme d'exécution et de calcul d'un résultat. \n",
    "\n",
    "Un problème usuel est de lever les ambiguités, pouvant apparaître, par exemple, dans une expression conditionnelle de la forme :  \n",
    "\n",
    "``if x > 0 then if x > 10 then x + 4 else x + 10``\n",
    "\n",
    "A quel ``if`` fait référence la clause ``else`` ? La réponse est biensûr une convention choisie par chaque concepteur de langage.\n",
    "\n",
    "La plupart des langages de programmation impératifs (C, C++, Pascal, Ada, Java...) utilisent une notion de bloc délimité par des mots clés ``begin``, ``end`` ou des symboles de ponctuation ``{``, ``}`` pour définir l'imbrication des instructions, et ainsi lever les ambiguités. Les langages graphiques (Scratch...) utilisent une visualisation graphique pour montrer cette imbrication. \n",
    "\n",
    "Pour le langage Python, c'est l'indentation - nombre de caractères 'espace' en marge gauche - qui définit le niveau d'imbrication d'une instruction. Par convention, chaque bloc d'instructions imbriqué dans un autre doit être décalé d'**un nombre fixé d'espaces vers la droite** en Python (en standard 4 espaces). Ne pas utiliser la touche ``tab`` dont la correspondance en nombre d'espaces varie selon le paramétrage de l'éditeur de texte."
   ]
  },
  {
   "cell_type": "code",
   "execution_count": null,
   "metadata": {},
   "outputs": [],
   "source": [
    "if 2 > 0 :\n",
    "    if 0 == 1 :\n",
    "        print(\"Tous les nombres entiers sont nuls !\")\n",
    "    else :\n",
    "        print(\"Cette instruction s'exécute car la condition 0 == 1 est fausse\")"
   ]
  },
  {
   "cell_type": "code",
   "execution_count": null,
   "metadata": {},
   "outputs": [],
   "source": [
    "if 2 > 0 :\n",
    "    if 0 == 1 :\n",
    "        print(\"Tous les nombres entiers sont nuls !\")\n",
    "else :\n",
    "    print(\"Cette instruction ne s'exécute pas car la condition 2 > 0 est vraie\")"
   ]
  },
  {
   "cell_type": "markdown",
   "metadata": {},
   "source": [
    "Dans le premier exemple, la 1ere condition est vraie et la seconde est fausse, c'est donc la clause ``else`` qui s'exécute et affiche le message.\n",
    "\n",
    "Dans le deuxième exemple, les conditions sont inchangées mais le mot clé ``else`` est aligné avec le premier ``if``. L'instruction associée au ``else``ne s'exécute pas car la 1ere condition est toujours vraie.\n",
    "\n",
    "On voit sur ces deux exemples que l'indentation du mot clé ``else`` a un effet déterminant sur l'exécution du programme. "
   ]
  },
  {
   "cell_type": "markdown",
   "metadata": {},
   "source": [
    "## Structures de contrôle\n",
    "\n",
    "Comme tous les langages dits *impératifs*, Python comporte un ensemble de structures permettant d'exécuter des instructions de manière conditionnelle ou répétitive. "
   ]
  },
  {
   "cell_type": "markdown",
   "metadata": {},
   "source": [
    "### Instructions conditionnelles et alternatives\n",
    "\n",
    "En Python, l'instruction **conditionnelle** s'écrit ``if condition :`` et n'exécute les instructions imbriquées - celles qui sont indentées - que si la condition est évaluée à ``True``."
   ]
  },
  {
   "cell_type": "code",
   "execution_count": null,
   "metadata": {},
   "outputs": [],
   "source": [
    "if 2 + 2 == 4:\n",
    "    print(\"Deux et deux font quatre\")"
   ]
  },
  {
   "cell_type": "markdown",
   "metadata": {},
   "source": [
    "Pour ajouter une **alternative**, il suffit d'ajouter une clause ``else :`` qui n'exécutera les instructions imbriquées qui suivent cette clause, que si la condition initiale a été évaluée à ``False``."
   ]
  },
  {
   "cell_type": "code",
   "execution_count": null,
   "metadata": {},
   "outputs": [],
   "source": [
    "if 2 + 2 == 5:\n",
    "    print(\"Deux et deux font cinq\")\n",
    "else :\n",
    "    print(\"Deux et deux ne font pas cinq\")"
   ]
  },
  {
   "cell_type": "markdown",
   "metadata": {},
   "source": [
    "Pour tester une série de conditions les unes après les autres, Python propose la structure générale suivante :\n",
    "```\n",
    "if condition 1:\n",
    "    instruction 1\n",
    "elif condition 2:\n",
    "    instruction 2\n",
    "...\n",
    "\n",
    "else :\n",
    "    instruction n\n",
    "```\n",
    "La clause ``elif`` est un raccourci d'écriture pour ``else if``. L'imbrication de multiples instructions alternatives nécessite beaucoup de soin dans la mise en forme du programme. Les clauses ``elif`` évitent les imbrications, car les conditions successives figurent au même niveau d'indentation.\n",
    "\n",
    "**Exemple** : le calcul suivant définit la valeur de y selon une fonction définie par morceaux dépendant de la valeur donnée pour x."
   ]
  },
  {
   "cell_type": "code",
   "execution_count": null,
   "metadata": {},
   "outputs": [],
   "source": [
    "x = float(input(\"Donnez un nombre flottant :\"))\n",
    "if x <= 1 :\n",
    "    y = 0.0\n",
    "elif x <= 3 :\n",
    "    y = x - 1.0\n",
    "elif x <= 4 :\n",
    "    y = 5.0 - x\n",
    "else :\n",
    "    y = 1.0\n",
    "print (y)"
   ]
  },
  {
   "cell_type": "markdown",
   "metadata": {},
   "source": [
    "**Remarque**: c'est exemple a seulement pour objectif d'illustrer la syntaxe ``elif``. Pour définir une fonction mathématique, on utilisera plutot une fonction au sens informatique."
   ]
  },
  {
   "cell_type": "markdown",
   "metadata": {},
   "source": [
    "### Instructions de répétition - la boucle bornée\n",
    "\n",
    "L'instruction répétitive : ``for i in range (a,b) :`` exécute les instructions imbriquées dans la boucle - celles qui sont indentées - pour toutes les valeurs de ``i`` variant de ``a``, ``a+1``, ... à ``b-1``.\n",
    "\n",
    "Si on omet le 1er paramètre, la boucle démarre avec l'indice ``0``. L'instruction répétitive : ``for i in range (n) :`` exécute donc ``n`` fois les instructions imbriquées pour ``i`` variant de ``0`` à ``n-1``\n",
    "\n",
    "La forme générale de l'expression ``range(a,b,p)`` permet de fournir la valeur de début ``a`` (inclus), la valeur de fin ``b`` (exclus) et le pas ``p`` de l'itération, parcourant ainsi les valeurs : ``a``, ``a+p``, ... jusqu'à la dernière valeur ``a+i*p`` qui soit strictement inférieure à ``b``."
   ]
  },
  {
   "cell_type": "code",
   "execution_count": null,
   "metadata": {},
   "outputs": [],
   "source": [
    "for i in range (1,10):\n",
    "    print(\"7 x\", i, \"=\", 7*i)\n",
    "print (\"7 fois 10 égal 70\")"
   ]
  },
  {
   "cell_type": "code",
   "execution_count": null,
   "metadata": {},
   "outputs": [],
   "source": [
    "for i in range(10):\n",
    "    print(i)"
   ]
  },
  {
   "cell_type": "markdown",
   "metadata": {},
   "source": [
    "### Instructions de répétition - la boucle non bornée\n",
    "\n",
    "L'instruction répétitive ``while condition :`` exécute les instructions imbriquées dans la boucle - celles qui sont indentées - tant que la condition est vérifiée. Si elle n'est pas vérifiée initialement, le corps de la boucle n'est jamais exécuté. Pour qu'un programme se termine, il faut que la condition soit vérifiée au bout d'un certain temps."
   ]
  },
  {
   "cell_type": "code",
   "execution_count": null,
   "metadata": {},
   "outputs": [],
   "source": [
    "a = 92\n",
    "b = 17\n",
    "q ,r = 0, a\n",
    "while (r>=b):\n",
    "    q, r = q+1, r-b\n",
    "print(a ,\"= \", b, \"x\", q, \"+\",r)"
   ]
  },
  {
   "cell_type": "markdown",
   "metadata": {},
   "source": [
    "Le programme ci-dessus calcule le quotient et le reste de la division euclidienne de ``a`` par ``b``. Il s'arrête si ``a`` et ``b`` sont des entiers positifs non nuls. "
   ]
  },
  {
   "cell_type": "markdown",
   "metadata": {},
   "source": [
    "**Remarque** : l'instruction particulière ``break`` permet d'interrompre prématurément - avant la fin normale - l'exécutution d'une boucle ``for`` ou ``while``. Son utilisation doit se faire avec prudence."
   ]
  },
  {
   "cell_type": "markdown",
   "metadata": {},
   "source": [
    "Equipe pédagoqique DIU EIL, ressource éducative libre distribuée sous [Licence Creative Commons Attribution - Pas d’Utilisation Commerciale - Partage dans les Mêmes Conditions 4.0 International](http://creativecommons.org/licenses/by-nc-sa/4.0/) ![Licence Creative Commons](https://i.creativecommons.org/l/by-nc-sa/4.0/88x31.png)"
   ]
  }
 ],
 "metadata": {
  "kernelspec": {
   "display_name": "Python 3",
   "language": "python",
   "name": "python3"
  },
  "language_info": {
   "codemirror_mode": {
    "name": "ipython",
    "version": 3
   },
   "file_extension": ".py",
   "mimetype": "text/x-python",
   "name": "python",
   "nbconvert_exporter": "python",
   "pygments_lexer": "ipython3",
   "version": "3.7.3"
  }
 },
 "nbformat": 4,
 "nbformat_minor": 1
}
