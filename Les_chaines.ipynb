{
 "cells": [
  {
   "cell_type": "markdown",
   "metadata": {},
   "source": [
    "# Les chaines de caractères"
   ]
  },
  {
   "cell_type": "markdown",
   "metadata": {},
   "source": [
    "## 1. Qu'est-ce qu'une chaine?"
   ]
  },
  {
   "cell_type": "markdown",
   "metadata": {},
   "source": [
    "1. Une chaine de caractères est une suite de caractères stockée dans une variable. On les définit en Python avec des guillemets simples ou doubles."
   ]
  },
  {
   "cell_type": "code",
   "execution_count": null,
   "metadata": {},
   "outputs": [],
   "source": [
    "ma_premiere_chaine='Coucou'\n",
    "ma_deuxieme_chaine=\"Bonjour\"\n",
    "ma_chaine_vide=''\n",
    "print(ma_premiere_chaine)\n",
    "print(ma_deuxieme_chaine)"
   ]
  },
  {
   "cell_type": "markdown",
   "metadata": {},
   "source": [
    "**Attention** On ne peut pas commencer une chaine par un type de guillemet et fermer par un autre"
   ]
  },
  {
   "cell_type": "code",
   "execution_count": null,
   "metadata": {},
   "outputs": [],
   "source": [
    "chaine_a_probleme='Essai\""
   ]
  },
  {
   "cell_type": "markdown",
   "metadata": {},
   "source": [
    "2. Les deux types de guillements utilisables permettent d'intéger des guillemets dans les chaines."
   ]
  },
  {
   "cell_type": "code",
   "execution_count": null,
   "metadata": {},
   "outputs": [],
   "source": [
    "ma_troisieme_chaine=\"J'adore le python\"\n",
    "ma_quatrieme_chaine='\"Moi aussi\"'\n",
    "print(ma_troisieme_chaine)\n",
    "print(ma_quatrieme_chaine)"
   ]
  },
  {
   "cell_type": "markdown",
   "metadata": {},
   "source": [
    "## 2. Les opérations sur les chaines"
   ]
  },
  {
   "cell_type": "markdown",
   "metadata": {},
   "source": [
    "### 1. Concaténer des chaines"
   ]
  },
  {
   "cell_type": "markdown",
   "metadata": {},
   "source": [
    "On peut ajouter des chaines de caractères avec le signe `+`."
   ]
  },
  {
   "cell_type": "code",
   "execution_count": null,
   "metadata": {},
   "outputs": [],
   "source": [
    "a='Je commence mon cours'\n",
    "b=\"de NSI\"\n",
    "c=a+' '+b\n",
    "print(c)"
   ]
  },
  {
   "cell_type": "markdown",
   "metadata": {},
   "source": [
    "### 2. Connaître la longueur d'une chaine"
   ]
  },
  {
   "cell_type": "markdown",
   "metadata": {},
   "source": [
    "Pour cela, on va utiliser la fonction `len()`"
   ]
  },
  {
   "cell_type": "code",
   "execution_count": null,
   "metadata": {},
   "outputs": [],
   "source": [
    "print(len('mon texte'))"
   ]
  },
  {
   "cell_type": "markdown",
   "metadata": {},
   "source": [
    "### 3. Parcourir les caractères d'une chaine"
   ]
  },
  {
   "cell_type": "markdown",
   "metadata": {},
   "source": [
    "Une chaine de caractères est un **itérable**, on peut donc la parcourir avec une commande `for` et le mot clé `in`"
   ]
  },
  {
   "cell_type": "code",
   "execution_count": null,
   "metadata": {
    "scrolled": true
   },
   "outputs": [],
   "source": [
    "ma_chaine=\"Je parcours ma chaine\"\n",
    "for caractere in ma_chaine:\n",
    "    print(caractere)"
   ]
  },
  {
   "cell_type": "markdown",
   "metadata": {},
   "source": [
    "Une chaine de caractères est assimilable à une liste de caractères. On peut donc accéder à un caractère de la chaine comme on accéderait à un élément d'une liste. Cela commence à l'indice 0."
   ]
  },
  {
   "cell_type": "code",
   "execution_count": null,
   "metadata": {},
   "outputs": [],
   "source": [
    "ma_chaine=\"Je parcours ma chaine\"\n",
    "print('Le premier caractère est : '+ma_chaine[0])\n",
    "print('Le quatrième caractère est : '+ma_chaine[3])"
   ]
  },
  {
   "cell_type": "markdown",
   "metadata": {},
   "source": [
    "**Exercice : Compléter l'exemple ci-dessous pour qu'il affiche tous les caractères de la chaine**"
   ]
  },
  {
   "cell_type": "code",
   "execution_count": null,
   "metadata": {},
   "outputs": [],
   "source": [
    "ma_chaine=\"Je parcours ma chaine\"\n",
    "for i in range(   ):\n",
    "    print(ma_chaine    )"
   ]
  },
  {
   "cell_type": "markdown",
   "metadata": {},
   "source": [
    "### 4 . Déterminer l'existence d'un caractère dans une chaine"
   ]
  },
  {
   "cell_type": "markdown",
   "metadata": {},
   "source": [
    "Pour déterminer si un caractère est dans une chaine, on peut utiliser le mot-clé `in`."
   ]
  },
  {
   "cell_type": "code",
   "execution_count": null,
   "metadata": {},
   "outputs": [],
   "source": [
    "ma_chaine='Voici mon texte'\n",
    "\n",
    "print('b' in ma_chaine)\n",
    "print('i' in ma_chaine)\n",
    "#Attention à la casse\n",
    "print('I' in ma_chaine)"
   ]
  },
  {
   "cell_type": "markdown",
   "metadata": {},
   "source": [
    "### 5. Extraire une partie d'une chaine"
   ]
  },
  {
   "cell_type": "markdown",
   "metadata": {},
   "source": [
    "On utilise ce qu'on appelle les **slices** (La maîtrise des slices n'est pas au programme de première NSI).\n",
    "On utilise des indices de position avec un `:`. Le nombre avant le `:` donne la position du début (s'il est ommit, on commence au début de la chaine). De même, le nombre après le `:` donne la position de la fin +1 (s'il est ommit, on va jusqu'à la fin). "
   ]
  },
  {
   "cell_type": "code",
   "execution_count": null,
   "metadata": {},
   "outputs": [],
   "source": [
    "ma_chaine=\"Je parcours ma chaine\"\n",
    "#les quatre premiers caractères - De l'indice 0 à l'indice 3\n",
    "print(ma_chaine[0:4])\n",
    "print(ma_chaine[:4])"
   ]
  },
  {
   "cell_type": "code",
   "execution_count": null,
   "metadata": {},
   "outputs": [],
   "source": [
    "ma_chaine=\"Je parcours ma chaine\"\n",
    "#les cinq derniers caractères - Un indice négatif part de la fin de la chaine\n",
    "print(ma_chaine[16:21])\n",
    "print(ma_chaine[-5:])"
   ]
  },
  {
   "cell_type": "code",
   "execution_count": null,
   "metadata": {},
   "outputs": [],
   "source": [
    "ma_chaine=\"Je parcours ma chaine\"\n",
    "#les caractères de l'indice 5 à l'indice 8 soit 4 caractères à partir de l'indice 5\n",
    "print(ma_chaine[5:9])"
   ]
  },
  {
   "cell_type": "markdown",
   "metadata": {},
   "source": [
    "**Exercice : Extraire la partie du texte située après le premier point dans le texte suivant :**"
   ]
  },
  {
   "cell_type": "code",
   "execution_count": null,
   "metadata": {},
   "outputs": [],
   "source": [
    "mon_texte=\"Bonjour à tous. Je vous souhaite une bonne année scolaire.\"\n",
    "#On extrait la partie du texte située après le premier point.\n",
    "resultat=\n",
    "print(resultat)"
   ]
  },
  {
   "cell_type": "markdown",
   "metadata": {},
   "source": [
    "On peut se servir de cette technique pour supprimer une partie d'une chaine."
   ]
  },
  {
   "cell_type": "code",
   "execution_count": null,
   "metadata": {},
   "outputs": [],
   "source": [
    "ma_chaine=\"Je parcours ma chaine\"\n",
    "#Je veux supprimer les 5, 6 et 7èmes caractères soit de l'indice 4 à l'indice 6\n",
    "print(ma_chaine)\n",
    "ma_chaine=ma_chaine[:4]+ma_chaine[7:]\n",
    "print(ma_chaine)"
   ]
  },
  {
   "cell_type": "markdown",
   "metadata": {},
   "source": [
    "**Exercice : Remplacer le mot chien par chat dans la phrase suivante**"
   ]
  },
  {
   "cell_type": "code",
   "execution_count": null,
   "metadata": {},
   "outputs": [],
   "source": [
    "phrase=\"Mon chien est mon meilleur ami\"\n",
    "\n",
    "phrase=\n",
    "print(phrase)"
   ]
  },
  {
   "cell_type": "markdown",
   "metadata": {},
   "source": [
    "### 6. Remplacer toutes les occurences d'une chaine dans une autre chaine"
   ]
  },
  {
   "cell_type": "markdown",
   "metadata": {},
   "source": [
    "On peut rechercher et remplacer dans une chaine grace à la méthode `replace('texte à chercher','texte qui remplace')`"
   ]
  },
  {
   "cell_type": "code",
   "execution_count": null,
   "metadata": {},
   "outputs": [],
   "source": [
    "ma_chaine=\"Je parcours ma chaine\"\n",
    "#On peut remplacer tous les 'a' par des 'e'\n",
    "print(ma_chaine)\n",
    "ma_chaine=ma_chaine.replace('a','e')\n",
    "print(ma_chaine)"
   ]
  },
  {
   "cell_type": "markdown",
   "metadata": {},
   "source": [
    "**Exercice 1 : Avec cette nouvelle méthode, remplacer le mot chien par chat dans la phrase suivante**"
   ]
  },
  {
   "cell_type": "code",
   "execution_count": null,
   "metadata": {},
   "outputs": [],
   "source": [
    "phrase=\"Mon chien est mon meilleur ami\"\n",
    "\n",
    "phrase=\n",
    "print(phrase)"
   ]
  },
  {
   "cell_type": "markdown",
   "metadata": {},
   "source": [
    "**Exercice 2 - Remplacer tous les e accentués par des simples e dans la phrase suivante**"
   ]
  },
  {
   "cell_type": "code",
   "execution_count": null,
   "metadata": {},
   "outputs": [],
   "source": [
    "phrase=\"Mes vêtements sèchent sur une corde à linge derrière la maison malgré le vent qui se lève.\"\n",
    "\n",
    "phrase_sans_accents=\n",
    "print(phrase_sans_accent)"
   ]
  },
  {
   "cell_type": "markdown",
   "metadata": {},
   "source": [
    "### 7. Découper une chaine en liste de chaines"
   ]
  },
  {
   "cell_type": "markdown",
   "metadata": {},
   "source": [
    "On peut découper une chaine de caractères selon un caractère pour la transformer en liste de chaines avec la méthode `split('séparateur')`.\n",
    "Par défaut, si le séparateur n'est pas renseigné, cela découpe selon les espaces."
   ]
  },
  {
   "cell_type": "code",
   "execution_count": null,
   "metadata": {},
   "outputs": [],
   "source": [
    "ma_chaine='Voici mon texte à découper en mots'\n",
    "liste_mots=ma_chaine.split() #équivalent de ma_chaine.split(' ')\n",
    "print(liste_mots)"
   ]
  },
  {
   "cell_type": "code",
   "execution_count": null,
   "metadata": {},
   "outputs": [],
   "source": [
    "ma_chaine='Chien,Chat,Oiseau,Ecureuil'\n",
    "animaux=ma_chaine.split(',')\n",
    "print(animaux)"
   ]
  },
  {
   "cell_type": "markdown",
   "metadata": {},
   "source": [
    "### 8. Changer la casse d'une chaine"
   ]
  },
  {
   "cell_type": "markdown",
   "metadata": {},
   "source": [
    "On peut mettre tous les caractères d'une chaine en minuscule en utilisant la méthode `lower()`. De même, on peut tout mettre en majuscule avec la méthode `upper()`."
   ]
  },
  {
   "cell_type": "code",
   "execution_count": null,
   "metadata": {},
   "outputs": [],
   "source": [
    "ma_chaine=\"Monsieur le Principal gère très bien son établissement\"\n",
    "print(ma_chaine.lower())\n",
    "print(ma_chaine.upper())"
   ]
  },
  {
   "cell_type": "markdown",
   "metadata": {},
   "source": [
    "#### Exercice - Mettre la première lettre en majuscule et le reste en minuscule"
   ]
  },
  {
   "cell_type": "code",
   "execution_count": null,
   "metadata": {},
   "outputs": [],
   "source": [
    "def initiale_majuscule(mot):\n",
    "    \"\"\" Cette fonction renvoie le contenu de mot avec la première lettre en majuscule et le reste en minuscule\"\"\"\n",
    "    \n",
    "    mot=\n",
    "    #on renvoie le mot traité\n",
    "    return mot\n",
    "\n",
    "#On teste la fonction\n",
    "print(initiale_majuscule('piERRe'))\n",
    "print(initiale_majuscule('ALiNe'))\n",
    "print(intiale_majuscule('étienne'))"
   ]
  },
  {
   "cell_type": "markdown",
   "metadata": {},
   "source": [
    "-----"
   ]
  },
  {
   "cell_type": "markdown",
   "metadata": {},
   "source": [
    "## Mini projet : Construire un petit jeu de mastermind"
   ]
  },
  {
   "cell_type": "markdown",
   "metadata": {},
   "source": [
    "### 1. Règle du jeu"
   ]
  },
  {
   "cell_type": "markdown",
   "metadata": {},
   "source": [
    "L'ordinateur doit choisir un mot aléatoire de 5 lettres parmi les lettres A,B,C et D.\n",
    "Une fois ce mot choisi, il doit poser une question pour que le joueur fasse une proposition. La proposition doit être validée (mot de 5 lettres contenant que des A, B, C ou D) sinon la question est reposée.\n",
    "Ensuite l'ordinateur doit donner le nombre de lettres bien placées et le nombre de lettres mal placées avant de demander si le joueur veut continuer et si oui, reposer la question.\n",
    "Si le mot a été trouvé, il faut alors afficher 'BRAVO!' et indiquer le nombre de coups utilisés."
   ]
  },
  {
   "cell_type": "markdown",
   "metadata": {},
   "source": [
    "### 2. La première fonction - Le tirage aléatoire du mot"
   ]
  },
  {
   "cell_type": "markdown",
   "metadata": {},
   "source": [
    "Vous allez devoir créer une fonction `mot_aleatoire()` qui retournera un mot de cinq lettres ne contenant que des A, B, C ou D."
   ]
  },
  {
   "cell_type": "markdown",
   "metadata": {},
   "source": [
    "On rappelle que pour utiliser un tirage aléatoire, il faut commencer par charger le module random avec un `import random as rnd`. On peut ensuite utiliser la fonction `rnd.randint(debut,fin)` qui va donner un nombre entier aléatoire entre `debut` et `fin`.\n",
    "\n"
   ]
  },
  {
   "cell_type": "code",
   "execution_count": null,
   "metadata": {},
   "outputs": [],
   "source": [
    "import random as rnd\n",
    "a=rnd.randint(1,5)\n",
    "print(a)"
   ]
  },
  {
   "cell_type": "markdown",
   "metadata": {},
   "source": [
    "On peut aussi ne charger que la fonction `randint()` du module `random` pour éviter de charger inutilement la mémoire avec un `from random import randint`. On l'utilise ensuite directement `randint(debut,fin)`."
   ]
  },
  {
   "cell_type": "code",
   "execution_count": null,
   "metadata": {},
   "outputs": [],
   "source": [
    "from random import randint\n",
    "a=randint(1,5)\n",
    "print(a)"
   ]
  },
  {
   "cell_type": "code",
   "execution_count": null,
   "metadata": {},
   "outputs": [],
   "source": [
    "def mot_aleatoire():\n",
    "    \"\"\" Cette fonction crée un mot aléatoire de 5 lettres parmi A, B, C ou D \"\"\"\n",
    "    #On peut commencer par initialiser le mot à vide\n",
    "    mot=''\n",
    "    \n",
    "    \n",
    "    #On renvoie le mot créé\n",
    "    return mot\n",
    "\n",
    "#On essaye la fonction\n",
    "mot_cache=mot_aleatoire()\n",
    "print(mot_cache)"
   ]
  },
  {
   "cell_type": "markdown",
   "metadata": {},
   "source": [
    "### 3. La deuxième fonction - Le contrôle du format du mot proposé"
   ]
  },
  {
   "cell_type": "markdown",
   "metadata": {},
   "source": [
    "Vous allez maintenant devoir créer une fonction `mot_valide(mot)` qui va permettre de valider le mot qui a été saisi par l'utilisateur (longueur et lettres). Elle devra renvoyer `True` si le mot est correct et `False`sinon."
   ]
  },
  {
   "cell_type": "code",
   "execution_count": null,
   "metadata": {},
   "outputs": [],
   "source": [
    "def mot_valide(mot):\n",
    "    \"\"\" Cette fonction valide la saisie de l'utilisateur qui est passée par la variable mot.\n",
    "        La longueur doit être 5 et les lettres parmi A, B, C et D\n",
    "        Elle renvoie True si c'est correct, False sinon\"\"\"\n",
    "    #On commence par initialiser le booléen qui donnera la réponde\n",
    "    reponse =\n",
    "    \n",
    "    \n",
    "    \n",
    "    #On renvoie la réponse\n",
    "    return reponse\n",
    "\n",
    "#On essaye la fonction\n",
    "print(mot_valide('ABCDE'))\n",
    "print(mot_valide('ABBC'))\n",
    "print(mot_valide('DCCAB'))"
   ]
  },
  {
   "cell_type": "markdown",
   "metadata": {},
   "source": [
    "### 4. La troisième fonction - Le nombre de lettres bien placées et mal placées"
   ]
  },
  {
   "cell_type": "markdown",
   "metadata": {},
   "source": [
    "Cette fonction `etude_mot(mot,mot_cache)` doit renvoyer le nombre de lettres bien placées et le nombre de lettres mal placées.\n",
    "On peut renvoyer deux valeurs avec une fonction, il suffit de mettre les deux valeurs séparées par une virgule après le mot clé `return`. On les récupérera de la même manière. La théorie de cette manipulation sera vue plus tard dans l'année."
   ]
  },
  {
   "cell_type": "markdown",
   "metadata": {},
   "source": [
    "**Attention au piège des lettres bien placées qui ne doivent pas être comptées dans les lettres mal placées.**"
   ]
  },
  {
   "cell_type": "code",
   "execution_count": null,
   "metadata": {},
   "outputs": [],
   "source": [
    "def etude_mot(mot,mot_cache):\n",
    "    \"\"\" Cette fonction renvoie le nombre de lettres bien placées et de lettres mal placées\n",
    "    de la variable mot par rapport au modèle mot_cache\"\"\"\n",
    "    #On initialise les variables\n",
    "    lettres_bien_placees=0\n",
    "    lettres_mal_placees=0\n",
    "    \n",
    "    \n",
    "    \n",
    "    #On renvoie les deux valeurs\n",
    "    return lettres_bien_placees,lettres_mal_placees\n",
    "\n",
    "#On essaye la fonction\n",
    "bien,mal = etude_mot('CACBD','CADCB')\n",
    "print(bien,' ',mal)\n",
    "\n",
    "bien,mal = etude_mot('ABCDA','CADCB')\n",
    "print(bien,' ',mal)\n",
    "\n",
    "bien,mal = etude_mot('CADCB','CADCB')\n",
    "print(bien,' ',mal)"
   ]
  },
  {
   "cell_type": "markdown",
   "metadata": {},
   "source": [
    "### 5. Il ne reste qu'à tout regrouper pour créer le programme"
   ]
  },
  {
   "cell_type": "markdown",
   "metadata": {},
   "source": [
    "Si vos fonctions sont opérationnelles et que vous les avez lancées lors de cette session, vous pouvez les utiliser directement pour créer votre programme complet sans avoir à les retaper."
   ]
  },
  {
   "cell_type": "code",
   "execution_count": null,
   "metadata": {},
   "outputs": [],
   "source": [
    "# MASTERMIND\n",
    "# L'ordinateur choisi un mot aléatoire de 5 lettres parmi A, B, C et D.\n",
    "# Le joueur propose un mot. La question sera reposée tant que la réponse n'a pas un format valide\n",
    "# Ensuite l'ordinateur vérifie le mot proposé\n",
    "# S'il est correct, il affiche 'BRAVO!' avec le nombre de coups nécessaires pour trouver\n",
    "# sinon il affiche le nombre de lettres bien placées et le nombre de lettres mal placées\n",
    "# Il demande ensuite ensuite si le joueur veut continuer et si c'est affirmatif, il repose la question de la proposition\n",
    "\n"
   ]
  }
 ],
 "metadata": {
  "kernelspec": {
   "display_name": "Python 3",
   "language": "python",
   "name": "python3"
  },
  "language_info": {
   "codemirror_mode": {
    "name": "ipython",
    "version": 3
   },
   "file_extension": ".py",
   "mimetype": "text/x-python",
   "name": "python",
   "nbconvert_exporter": "python",
   "pygments_lexer": "ipython3",
   "version": "3.7.3"
  }
 },
 "nbformat": 4,
 "nbformat_minor": 2
}
