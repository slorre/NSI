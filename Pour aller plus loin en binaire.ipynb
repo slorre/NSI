{
 "cells": [
  {
   "cell_type": "markdown",
   "metadata": {},
   "source": [
    "# Pour aller plus loin avec les nombres binaires"
   ]
  },
  {
   "cell_type": "markdown",
   "metadata": {},
   "source": [
    "## I - Les opérations avec les nombres en base 2"
   ]
  },
  {
   "cell_type": "markdown",
   "metadata": {},
   "source": [
    "### a) L'addition binaire"
   ]
  },
  {
   "cell_type": "markdown",
   "metadata": {},
   "source": [
    "Le mode opératoire de l'addition de deux nombres binaires est le même que celui des décimaux.<br>\n"
   ]
  },
  {
   "cell_type": "markdown",
   "metadata": {},
   "source": [
    "Table de l'addition de deux bits :<br>\n",
    "$0+0=0$<br>\n",
    "$0+1=1$<br>\n",
    "$1+0=1$<br>\n",
    "$1+1=10~~~~$ On obtient 0 et on retient 1."
   ]
  },
  {
   "cell_type": "markdown",
   "metadata": {},
   "source": [
    "On peut poser une opération comme on le ferait avec des entiers en base 10.<br>\n",
    "$~~~_1~_1$<br>\n",
    "$~~~1~0~1~0$<br>\n",
    "$+ ~~~1~1~1$<br>\n",
    "$\\rule{1,5cm}{0,5mm}$<br>\n",
    "$1~0~0~0~1~~~~~~~~~~~~$   $1010_2+111_2=10001_2$\n"
   ]
  },
  {
   "cell_type": "markdown",
   "metadata": {},
   "source": [
    "**Exercice :**"
   ]
  },
  {
   "cell_type": "markdown",
   "metadata": {},
   "source": [
    "$1011_2+10111_2=$<br>\n",
    "$1011_2+100_2=$"
   ]
  },
  {
   "cell_type": "markdown",
   "metadata": {},
   "source": [
    "**Exercice : Ecrire une fonction somme de deux nombres en binaire**"
   ]
  },
  {
   "cell_type": "code",
   "execution_count": 1,
   "metadata": {},
   "outputs": [
    {
     "name": "stdout",
     "output_type": "stream",
     "text": [
      "\n"
     ]
    }
   ],
   "source": [
    "def somme_bin(nb1,nb2):\n",
    "    \"\"\"fait la somme de deux nombres entiers positifs écrit en base 2 sous la forme d'une chaine de caractères\"\"\"\n",
    "    #On initialise la variable resultat à ''\n",
    "    resultat = ''\n",
    "    ##### Mon code #####\n",
    "    \n",
    "    \n",
    "    \n",
    "    \n",
    "    #### fin de mon code #####\n",
    "    # on renvoie le resultat\n",
    "    return resultat\n",
    "\n",
    "#### TESTS\n",
    "print(somme_bin('00010110','00110101'))"
   ]
  },
  {
   "cell_type": "markdown",
   "metadata": {},
   "source": [
    "### b) Le produit binaire"
   ]
  },
  {
   "cell_type": "markdown",
   "metadata": {},
   "source": [
    "Là encore, le produit se réalise comme pour les entiers"
   ]
  },
  {
   "cell_type": "markdown",
   "metadata": {},
   "source": [
    "Table du produit de deux bits :<br>\n",
    "$0\\times 0=0$<br>\n",
    "$0\\times 1=0$<br>\n",
    "$1\\times 0=0$<br>\n",
    "$1\\times 1=1$"
   ]
  },
  {
   "cell_type": "markdown",
   "metadata": {},
   "source": [
    "On peut poser une multiplication comme on le ferait avec des entiers en commençant par faire les produits puis les sommes.<br>\n",
    "$~~~~~~1~0~1$<br>\n",
    "$\\times~~~~~~1~0$<br>\n",
    "$\\rule{1,7cm}{0,5mm}$<br>\n",
    "$~~~~~~0~0~0$<br>\n",
    "$+1~0~1~.$<br>\n",
    "$\\rule{1,7cm}{0,5mm}$<br>\n",
    "$~~~1~0~1~0~~~~~~~~~~~~$$101_2\\times10_2=1010_2$"
   ]
  },
  {
   "cell_type": "markdown",
   "metadata": {},
   "source": [
    "**Exercice :**"
   ]
  },
  {
   "cell_type": "markdown",
   "metadata": {},
   "source": [
    "$101_2\\times111_2=$<br>\n",
    "$11_2\\times100_2=$"
   ]
  },
  {
   "cell_type": "markdown",
   "metadata": {},
   "source": [
    "## II - Représentation binaire d’un entier relatif\n",
    "\n",
    "### Avec bit de signe\n",
    "\n",
    "La première idée pour représenter les entiers relatifs a été de réserver un bit pour le signe ($0$ pour $+$, $1$ pour $-$), puis à utiliser les bits restants pour coder la valeur absolue. \n",
    "\n",
    "Avec 8 bits on peut ainsi coder d'une part les entiers positifs de 0 à 127 avec les codes $0000000$ à $01111111$, et d'autre part les entiers négatifs de -0 à -127 avec les codes $10000000$ à $11111111$.\n",
    "\n",
    "Cette représentation est simple pour calculer la représentation d'un nombre. Elle a cependant deux défauts majeurs : elle donne 2 codes différents pour 0 et elle n'est pas adaptée pour effectuer les calculs élémentaires sur les codes. Par exemple pour ajouter 1, l'algorithme n'est pas le même pour les négatifs et pour les positifs. Pour programmer une addition, il faut écrire 4 algorithmes différents, selon les signes des opérandes. \n",
    "\n",
    "### En complément à 2\n",
    "\n",
    "L'idée du code en complément à deux (sur 8 bits) consiste à attribuer les codes $00000000$ à $01111111$ aux entiers positifs de 0 à 127 puis à attribuer les codes suivants $10000000$ à $11111111$ aux entiers négatifs de -128 à -1. Ainsi on code un entier négatif $x$, par le code  qui était attribué pour les entiers naturels à l'entier $x + 256$. \n",
    "\n",
    "Avec ce codage, les codes sont attribués aussi par ordre croissant pour les nombres négatifs, ce qui permet de faire les opérations sur les codes comme s'il s'agissait d'entiers naturels. En particulier, si on ajoute 1 au code de -1 : $11111111$, on obtient bien le code de 0 : $00000000$ avec l'oubli de la retenue en conservant le résultat sur 8 bits. \n",
    "\n",
    "L'algorithme d'addition sur les entiers naturels, donne des résultats corrects pour les entiers relatifs à condition que le résultat soit représentable.\n",
    "\n",
    "Une autre propriété intéressante du code complément à 2 est qu'il existe une technique simple pour obtenir le code complément à 2 d'un nombre négatif à partir du code de son opposé :\n",
    "\n",
    "> Calculer le code base 2 de l'opposé, inverser les bits, ajouter 1.\n",
    "\n",
    "On calcule ainsi : ($11111111$ - code base 2(-nombre)) + $00000001$ = code base 2(nombre + 256)."
   ]
  },
  {
   "cell_type": "markdown",
   "metadata": {},
   "source": [
    "**Exercice : Ecrire les nombres relatifs suivants en base 2 en utilisant le complément à 2**"
   ]
  },
  {
   "cell_type": "markdown",
   "metadata": {},
   "source": [
    "$-15_{10}=$\n",
    "<br>\n",
    "$-262_{10}=$"
   ]
  },
  {
   "cell_type": "markdown",
   "metadata": {},
   "source": [
    "**Exercice 2 : Ecrire la fonction oppose qui donne l'opposé d'un nombre binaire**"
   ]
  },
  {
   "cell_type": "code",
   "execution_count": 2,
   "metadata": {},
   "outputs": [
    {
     "name": "stdout",
     "output_type": "stream",
     "text": [
      "\n",
      "\n"
     ]
    }
   ],
   "source": [
    "def oppose(nb):\n",
    "    \"\"\"Renvoie l'opposé du nombre binaire nb passé en paramètre sous forme de chaine de caractères\n",
    "    correspondant à un octet suivant la méthode du complément à 2\"\"\"\n",
    "    # On teste si le nbre passé en paramètre est bien au format attendu\n",
    "    # le booleen octet doit rester vrai pour valider le bon format\n",
    "    octet = len(nb)==8 #la longueur doit être de 8\n",
    "    if octet: #Le premier test de longueur est validé\n",
    "        for bit in nb:\n",
    "            octet=octet and (bit in ['0','1']) #On vérifie que le nbre ne contient que des 0 et des 1.\n",
    "    \n",
    "    if Not octet:\n",
    "        #le format n'est pas bon\n",
    "        return None\n",
    "    else:\n",
    "        #Le format est correct, on peut convertir\n",
    "        #On initialise la variable reponse à ''\n",
    "        reponse=''\n",
    "        #### Mon code ####\n",
    "\n",
    "\n",
    "\n",
    "        #### fin de mon code ####\n",
    "        #on renvoie la réponse\n",
    "    return reponse\n",
    "\n",
    "\n",
    "####### TESTS ########\n",
    "\n",
    "print(oppose('00000101'))\n",
    "print(oppose('01110111'))\n"
   ]
  },
  {
   "cell_type": "code",
   "execution_count": null,
   "metadata": {},
   "outputs": [],
   "source": []
  }
 ],
 "metadata": {
  "kernelspec": {
   "display_name": "Python 3",
   "language": "python",
   "name": "python3"
  },
  "language_info": {
   "codemirror_mode": {
    "name": "ipython",
    "version": 3
   },
   "file_extension": ".py",
   "mimetype": "text/x-python",
   "name": "python",
   "nbconvert_exporter": "python",
   "pygments_lexer": "ipython3",
   "version": "3.7.3"
  }
 },
 "nbformat": 4,
 "nbformat_minor": 2
}
