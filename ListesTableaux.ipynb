{
 "cells": [
  {
   "cell_type": "markdown",
   "metadata": {},
   "source": [
    "# Listes et tableaux\n",
    "\n",
    "En Python, les notions de liste et de tableau sont confondues. La même structure de données, peut être considérée comme un tableau - suite d'un nombre fixé d'éléments accessibles par leur indice - ou comme une liste - structure dynamique dont le nombre d'éléments peut varier au cours de l'exécution."
   ]
  },
  {
   "cell_type": "markdown",
   "metadata": {},
   "source": [
    "Le type **liste** en Python est très riche par le nombre de fonctions disponibles et par sa capacité à gérer simultanément des listes en tant que suites ordonnées d'éléments et en tant que *vecteurs* dont chaque élément est accessible par son indice.\n"
   ]
  },
  {
   "cell_type": "markdown",
   "metadata": {},
   "source": [
    "## Les listes Python vues comme des tableaux\n",
    "\n",
    "La manière la plus élémentaire de construire une liste (tableau) est d'énumérer ses éléments, c'est la **construction par énumération**. Les listes sont notées par des ``[]`` avec le séparateur ``,``. On peut accéder à chaque élément par son indice avec la notation ``vecteur[indice]``. \n",
    "\n",
    "Par convention, le 1er élément d'une liste a l'indice ``0``. L'indice du dernier élément d'une liste de longueur ``n`` est : ``n - 1``."
   ]
  },
  {
   "cell_type": "code",
   "execution_count": null,
   "metadata": {},
   "outputs": [],
   "source": [
    "jours = [\"Lundi\", \"Mardi\", \"Mercredi\", \"Jeudi\", \"Vendredi\", \"Samedi\", \"Dimanche\"]"
   ]
  },
  {
   "cell_type": "code",
   "execution_count": null,
   "metadata": {},
   "outputs": [],
   "source": [
    "jours[3]"
   ]
  },
  {
   "cell_type": "code",
   "execution_count": null,
   "metadata": {},
   "outputs": [],
   "source": [
    "chiffres = [0, 1, 2, 3, 4, 5, 6, 7, 8, 9]"
   ]
  },
  {
   "cell_type": "markdown",
   "metadata": {},
   "source": [
    "**Remarque** : En Python, il n'y a aucune contrainte sur le type des éléments d'une liste. Les éléments d'une même liste peuvent être de types différents. Le programme de la classe de première précise cependant : \"Seuls les tableaux dont les éléments\n",
    "sont du même type sont présentés.\" "
   ]
  },
  {
   "cell_type": "code",
   "execution_count": null,
   "metadata": {},
   "outputs": [],
   "source": [
    "collection = [3.14, \"Réfrigérateur\", 68, (4, 2), \"Pendule\", False]"
   ]
  },
  {
   "cell_type": "markdown",
   "metadata": {},
   "source": [
    "### Parcours élémentaire d'une liste\n",
    "\n",
    "La fonction ``len`` donne la longueur - nombre d'éléments - d'une liste.\n",
    "\n",
    "Le parcours séquentiel d'une liste peut se faire avec une boucle bornée."
   ]
  },
  {
   "cell_type": "code",
   "execution_count": null,
   "metadata": {},
   "outputs": [],
   "source": [
    "for i in range(len(jours)):\n",
    "    print (jours[i])"
   ]
  },
  {
   "cell_type": "markdown",
   "metadata": {},
   "source": [
    "**Remarque**: pour le parcours des éléments d'une liste ``L``, la convention de numérotation des indices et la définition de ``range`` sont cohérentes pour permettre d'utiliser le schéma usuel :\n",
    "\n",
    "```for i in range(len(L))```"
   ]
  },
  {
   "cell_type": "markdown",
   "metadata": {},
   "source": [
    "## Les listes en Python\n",
    "\n",
    "De manière générale, la longueur d'une liste est arbitraire, n'a pas a être déclarée et peut varier au cours de l'exécution - c'est une structure de données dynamique. \n",
    "\n",
    "Pour construire une liste par programme, on peut partir d'une liste vide, puis lui ajouter des éléments un à un avec la méthode ``append``."
   ]
  },
  {
   "cell_type": "code",
   "execution_count": null,
   "metadata": {},
   "outputs": [],
   "source": [
    "LC = []\n",
    "for i in range(15):\n",
    "    LC.append (i*i)"
   ]
  },
  {
   "cell_type": "code",
   "execution_count": null,
   "metadata": {},
   "outputs": [],
   "source": [
    "LC"
   ]
  },
  {
   "cell_type": "markdown",
   "metadata": {},
   "source": [
    "**Remarque** : on peut ainsi construire des listes arbitrairement longues, sans besoin d'en énumérer les éléments."
   ]
  },
  {
   "cell_type": "markdown",
   "metadata": {},
   "source": [
    "### Modification d'une liste\n",
    "\n",
    "Les listes sont un type **mutable**, ce qui signifie que l'on peut modifier en place une liste en modifiant directement un élément particulier.  On peut aussi insérer un élément à une position particulière ``insert``, dépiler le dernier élément ``pop``, ou supprimer le 1er élément ayant une valeur particulière ``remove``."
   ]
  },
  {
   "cell_type": "code",
   "execution_count": null,
   "metadata": {},
   "outputs": [],
   "source": [
    "def inseredanslistecroissante (e,L):\n",
    "    for i in range(len(L)):\n",
    "        if e < L[i]:\n",
    "            L.insert(i,e)\n",
    "            return()\n",
    "    L.insert(len(L),e)\n",
    "    return()    "
   ]
  },
  {
   "cell_type": "markdown",
   "metadata": {},
   "source": [
    "Cette fonction modifie la liste triée fournie en paramètre en y insérant un élément à la bonne place. Elle n'a pas besoin de retourner un résultat car son effet est de modifier la liste donnée : c'est en réalité une procédure."
   ]
  },
  {
   "cell_type": "code",
   "execution_count": null,
   "metadata": {},
   "outputs": [],
   "source": [
    "liste = [1,4,7,9,11,13,19]\n",
    "inseredanslistecroissante (8,liste)\n",
    "liste"
   ]
  },
  {
   "cell_type": "markdown",
   "metadata": {},
   "source": [
    "### Recopie d'une liste\n",
    "\n",
    "Dans le cas où l'on souhaite construire une liste résultat distincte de la liste donnée, on peut utiliser la méthode de copie où reconstruire explicitement une nouvelle liste."
   ]
  },
  {
   "cell_type": "code",
   "execution_count": null,
   "metadata": {},
   "outputs": [],
   "source": [
    "liste.copy()"
   ]
  },
  {
   "cell_type": "markdown",
   "metadata": {},
   "source": [
    "La copie crée une nouvelle liste distincte. \n",
    "\n",
    "**Remarque** : c'est une copie *superficielle*, ce qui signifie que si la liste contient elle-même des éléments mutables, seules les références à ces éléments sont copiées, mais pas leurs contenus. "
   ]
  },
  {
   "cell_type": "code",
   "execution_count": null,
   "metadata": {},
   "outputs": [],
   "source": [
    "def renverse (L):\n",
    "    R = []\n",
    "    for i in range(len(L)):\n",
    "        R.insert(0,L[i])\n",
    "    return(R)\n",
    "\n",
    "renverse(liste)"
   ]
  },
  {
   "cell_type": "markdown",
   "metadata": {},
   "source": [
    "La fonction ``renverse`` reconstruit une nouvelle liste en remettant un à un en première position les éléments de la liste donnée, ce qui a pour effet d'inverser la liste. \n",
    "\n",
    "Pour vérifier que cette fonction a bien créé une nouvelle liste sans modifier la liste donnée, il suffit d'afficher la liste initiale. "
   ]
  },
  {
   "cell_type": "code",
   "execution_count": null,
   "metadata": {},
   "outputs": [],
   "source": [
    "liste"
   ]
  },
  {
   "cell_type": "markdown",
   "metadata": {},
   "source": [
    "## Itérateurs\n",
    "\n",
    "Le mécanisme des itérateurs permet de généraliser les boucles. Il permet aussi d'écrire les itérations sur les listes de manière plus concise."
   ]
  },
  {
   "cell_type": "markdown",
   "metadata": {},
   "source": [
    "**Exemple** : ce premier exemple illustre le lien entre la fonction ``range`` utilisé pour les boucles, et les listes."
   ]
  },
  {
   "cell_type": "code",
   "execution_count": null,
   "metadata": {},
   "outputs": [],
   "source": [
    "list(range(1,10))"
   ]
  },
  {
   "cell_type": "markdown",
   "metadata": {
    "collapsed": true
   },
   "source": [
    "La fonction ``range(a,b,p)`` est un *itérateur* : elle ne calcule pas immédiatement la liste de ses éléments, mais les fournit *à la demande* du contexte dans lequel se trouve le ``range`` - le plus souvent une boucle ``for``. \n",
    "\n",
    "La fonction ``list`` transforme en liste le résultat de la fonction ``range``. "
   ]
  },
  {
   "cell_type": "markdown",
   "metadata": {},
   "source": [
    "La boucle ``for`` peut aussi être utilisé sur d'autres objets *itérables*, c'est à dire disposant de méthodes permettant de trouver le premier puis de passer au suivant. C'est le cas en particulier des listes.\n",
    "\n",
    "On peut ainsi écrire en Python, une boucle parcourant les éléments d'une liste de la manière suivante."
   ]
  },
  {
   "cell_type": "code",
   "execution_count": null,
   "metadata": {},
   "outputs": [],
   "source": [
    "def somme(L):\n",
    "    s = 0\n",
    "    for e in L:\n",
    "        s = s + e\n",
    "    return(s)\n",
    "    \n",
    "somme([12,56,8,32,89,7])"
   ]
  },
  {
   "cell_type": "markdown",
   "metadata": {},
   "source": [
    "L'itération usuelle utilise un indice pour écrire la boucle : ``for i in range(len(L))``. \n",
    "\n",
    "L'itération directe sur la liste permet d'écrire : ``for e in L``.\n",
    "\n",
    "La fonction ``renverse`` peut ainsi s'écrire :"
   ]
  },
  {
   "cell_type": "code",
   "execution_count": null,
   "metadata": {},
   "outputs": [],
   "source": [
    "def renverse (L):\n",
    "    R = []\n",
    "    for e in L:\n",
    "        R.insert(0,e)\n",
    "    return(R)"
   ]
  },
  {
   "cell_type": "markdown",
   "metadata": {},
   "source": [
    "### Listes en compréhension\n",
    "\n",
    "On peut aussi construire une liste **en compréhension** en écrivant le terme général de la liste, et sa variation par une *pseudo* boucle for de la manière suivante :"
   ]
  },
  {
   "cell_type": "code",
   "execution_count": null,
   "metadata": {},
   "outputs": [],
   "source": [
    "[2** n for n in range(11)]"
   ]
  },
  {
   "cell_type": "markdown",
   "metadata": {},
   "source": [
    "On peut lire cette expression : liste des $2^n$ pour tout $n$ entre $0$ et $10$."
   ]
  },
  {
   "cell_type": "markdown",
   "metadata": {},
   "source": [
    "On peut aussi construire une liste en compréhension tout en itérant sur une autre liste :"
   ]
  },
  {
   "cell_type": "code",
   "execution_count": null,
   "metadata": {},
   "outputs": [],
   "source": [
    "[s + 's' for s in ['cochon', 'chat', 'chien', 'poule', 'rat']]"
   ]
  },
  {
   "cell_type": "markdown",
   "metadata": {},
   "source": [
    "Ces derniers exemples montrent la concision qui peut être obtenue pour des traitements relativement complexes. La syntaxe a été choisie pour correspondre au plus près aux expressions mathématiques usuelles, mais ne doit pas occulter la complexité réelle des traitements sous-jacents."
   ]
  },
  {
   "cell_type": "markdown",
   "metadata": {},
   "source": [
    "Equipe pédagoqique DIU EIL, ressource éducative libre distribuée sous [Licence Creative Commons Attribution - Pas d’Utilisation Commerciale - Partage dans les Mêmes Conditions 4.0 International](http://creativecommons.org/licenses/by-nc-sa/4.0/) ![Licence Creative Commons](https://i.creativecommons.org/l/by-nc-sa/4.0/88x31.png)"
   ]
  }
 ],
 "metadata": {
  "kernelspec": {
   "display_name": "Python 3",
   "language": "python",
   "name": "python3"
  },
  "language_info": {
   "codemirror_mode": {
    "name": "ipython",
    "version": 3
   },
   "file_extension": ".py",
   "mimetype": "text/x-python",
   "name": "python",
   "nbconvert_exporter": "python",
   "pygments_lexer": "ipython3",
   "version": "3.7.3"
  }
 },
 "nbformat": 4,
 "nbformat_minor": 1
}
