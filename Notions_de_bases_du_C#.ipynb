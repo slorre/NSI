{
 "cells": [
  {
   "cell_type": "markdown",
   "metadata": {},
   "source": [
    "# Introduction au C# (C-Sharp)"
   ]
  },
  {
   "cell_type": "markdown",
   "metadata": {},
   "source": [
    "Dans ce tutoriel, nous allons apprendre quelques bases du C#.  \n",
    "Normalement, le C# est un langage compilé c'est à dire que le code C# doit être transformé en code machine via un compilateur avant de pouvoir être lancé.  \n",
    "Le jupyter notebook permet de rendre la compilation transparente et permet de lancer le code facilement."
   ]
  },
  {
   "cell_type": "markdown",
   "metadata": {},
   "source": [
    "Notre première ligne de code en C# :"
   ]
  },
  {
   "cell_type": "code",
   "execution_count": 10,
   "metadata": {},
   "outputs": [
    {
     "name": "stdout",
     "output_type": "stream",
     "text": [
      "Hello world!\r\n"
     ]
    }
   ],
   "source": [
    "Console.WriteLine(\"Hello world!\");"
   ]
  },
  {
   "cell_type": "markdown",
   "metadata": {},
   "source": [
    "Vous pouvez remarquer que la ligne se termine par un `;`.  \n",
    "C'est le cas de toutes les lignes en C# sauf celles qui commencent un bloc.   \n",
    "Dans le jupyter notebook, on peut aussi afficher le contenu d'une variable en mettant juste son nom dans un bloc code."
   ]
  },
  {
   "cell_type": "code",
   "execution_count": 12,
   "metadata": {},
   "outputs": [
    {
     "data": {
      "text/plain": [
       "Hello world!"
      ]
     },
     "execution_count": 12,
     "metadata": {},
     "output_type": "execute_result"
    }
   ],
   "source": [
    "string bonjour = \"Hello world!\";\n",
    "bonjour"
   ]
  },
  {
   "cell_type": "markdown",
   "metadata": {},
   "source": [
    "Vous avez aussi remarqué que lors de la définition de la variable `bonjour`, on a commencé la ligne par `string`.   \n",
    "**Le C# est un langage fortement typé**. Cela veut dire que chaque variable (objet) doit être définie par son type (classe) lors de sa première utilisation."
   ]
  },
  {
   "cell_type": "markdown",
   "metadata": {},
   "source": [
    "---\n",
    "## 1- Les variables"
   ]
  },
  {
   "cell_type": "markdown",
   "metadata": {},
   "source": [
    "### 1.1 - Les types de bases"
   ]
  },
  {
   "cell_type": "markdown",
   "metadata": {},
   "source": [
    "`bool` : Booléen (Vrai ou faux) : `true`ou `false`.  \n",
    "`char` : Caractère Unicode  \n",
    "`sbyte` : Entier signé sur 1 octet (8 bits) : -128 à +127  \n",
    "`byte` : Entier non signé sur 1 octet (8 bits) : 0 à 255  \n",
    "`short` : Entier signé sur 2 octets (16 bits) : -32768 à 32767  \n",
    "`ushort`: Entier non signé sur 2 octets (16 bits) : 0 à 65535  \n",
    "`int` : Entier signé sur 4 octets (32 bits) : -2.147.488.648 à 2.147.483.647  \n",
    "`uint` : Entier non signé sur 4 octets (32 bits) : 0 à 4.294.967.295  \n",
    "`long` : Entier signé sur 8 octets (64 bits) : -9.223.372.036.854.775.808 à 9.223.372.036.854.775.807  \n",
    "`ulong` : Entier non signé sur 8 octets (64 bits) : 0 à 18.446.744.073.709.551.614  \n",
    "`float` : Nombre à virgule flottante sur 4 octets (32 bits) : puissances de 10 de -127 à 127  \n",
    "`double` : Nombre à virgule flottante sur 8 octets ( 64 bits) : $\\pm 2^{-127}$ à $\\pm 2^{127}$  \n",
    "`decimal` : Nombre à virgule flottante sur 16 octets (128 bits) : $\\pm 2^{-1023}$ à $\\pm 2^{1023}$  \n",
    "`string` : Chaîne de caractères Unicode . **Le symbole pour encadrer une chaine est le guillement double \"**"
   ]
  },
  {
   "cell_type": "markdown",
   "metadata": {},
   "source": [
    "On peut aussi définir une variable avec le mot clé `var` si le type peut être facilement reconnu par le compilateur. \n",
    "\n",
    "On parle de *__typage implicite__*."
   ]
  },
  {
   "cell_type": "code",
   "execution_count": 58,
   "metadata": {},
   "outputs": [
    {
     "data": {
      "text/html": [
       "<span><a href=\"https://docs.microsoft.com/dotnet/api/system.string?view=net-5.0\">System.String</a></span>"
      ]
     },
     "execution_count": 58,
     "metadata": {},
     "output_type": "execute_result"
    }
   ],
   "source": [
    "var maVariable = \"test\"; //Définit maVariable du type string\n",
    "maVariable.GetType()"
   ]
  },
  {
   "cell_type": "code",
   "execution_count": 59,
   "metadata": {},
   "outputs": [
    {
     "data": {
      "text/html": [
       "<span><a href=\"https://docs.microsoft.com/dotnet/api/system.int32?view=net-5.0\">System.Int32</a></span>"
      ]
     },
     "execution_count": 59,
     "metadata": {},
     "output_type": "execute_result"
    }
   ],
   "source": [
    "var n = 100; //Définit n comme int.\n",
    "n.GetType()"
   ]
  },
  {
   "cell_type": "markdown",
   "metadata": {},
   "source": [
    "Dans ces deux exemples, on peut voir que les deux variables qui viennent d'être définies possèdent la méthode `GetType()`.  \n",
    "A l'instar du Python, tout est donc objet en C#."
   ]
  },
  {
   "cell_type": "markdown",
   "metadata": {},
   "source": [
    "### 1.2 Les tableaux (listes)"
   ]
  },
  {
   "cell_type": "markdown",
   "metadata": {},
   "source": [
    "On peut déclarer un tableau en rajoutant une paire de crochets après le type lors de la déclaration."
   ]
  },
  {
   "cell_type": "code",
   "execution_count": 70,
   "metadata": {},
   "outputs": [],
   "source": [
    "int[] entiers; // Définit la variable entiers comme un tableau d'entiers\n",
    "               // mais ne définit pas le nombre d'éléments du tableau.\n",
    "               // Cela définit la référence mémoire pour le tableau."
   ]
  },
  {
   "cell_type": "markdown",
   "metadata": {},
   "source": [
    "Mais attention, avec cette déclaration, la place n'est pas réservée en mémoire. Il s'agit juste d'une référence.  \n",
    "Pour définir un nombre d'éléments, il faut faire une allocation. Cela se fait avec le mot clé `new`."
   ]
  },
  {
   "cell_type": "code",
   "execution_count": 69,
   "metadata": {},
   "outputs": [
    {
     "data": {
      "text/html": [
       "<span><a href=\"https://docs.microsoft.com/dotnet/api/system.int32[]?view=net-5.0\">System.Int32[]</a></span>"
      ]
     },
     "execution_count": 69,
     "metadata": {},
     "output_type": "execute_result"
    }
   ],
   "source": [
    "int[] entiers = new int[10]; // Définit la variable entiers comme un tableau de 10 entiers"
   ]
  },
  {
   "cell_type": "markdown",
   "metadata": {},
   "source": [
    "On peut aussi le définir et faire l'allocation en deux étapes."
   ]
  },
  {
   "cell_type": "code",
   "execution_count": 104,
   "metadata": {},
   "outputs": [],
   "source": [
    "int[] entiers;\n",
    "entiers = new int[10];"
   ]
  },
  {
   "cell_type": "markdown",
   "metadata": {},
   "source": [
    "Une fois le tableau réservé en mémoire, il ne contient que la valeur par défaut. Pour un tableau d'entiers, la valeur par défaut est 0.  \n",
    "On peut aussi définir un tableau avec des valeurs prédéfinies."
   ]
  },
  {
   "cell_type": "code",
   "execution_count": 72,
   "metadata": {},
   "outputs": [],
   "source": [
    "int[] entiers = new int[] {10,15,20,25,30,35,40,45};"
   ]
  },
  {
   "cell_type": "markdown",
   "metadata": {},
   "source": [
    "On peut connaître le nombre d'éléments du tableau en appelant sa méthode `Length`."
   ]
  },
  {
   "cell_type": "code",
   "execution_count": 76,
   "metadata": {},
   "outputs": [
    {
     "name": "stdout",
     "output_type": "stream",
     "text": [
      "8\r\n"
     ]
    }
   ],
   "source": [
    "Console.WriteLine(entiers.Length)"
   ]
  },
  {
   "cell_type": "markdown",
   "metadata": {},
   "source": [
    "On accède à un élément du tableau par un indice que l'on note entre crochets.  \n",
    "`entiers[0]` est le premier élément du tableau `entiers`.\n"
   ]
  },
  {
   "cell_type": "code",
   "execution_count": 80,
   "metadata": {},
   "outputs": [
    {
     "name": "stdout",
     "output_type": "stream",
     "text": [
      "10\n",
      "15\n",
      "20\n",
      "25\n"
     ]
    }
   ],
   "source": [
    "int[] entiers = new int[] {10,15,20,25};\n",
    "\n",
    "for (int i=0; i<entiers.Length; i++)\n",
    "{\n",
    "    Console.WriteLine(entiers[i]);\n",
    "}"
   ]
  },
  {
   "cell_type": "markdown",
   "metadata": {},
   "source": [
    "On peut modifier une valeur du tableau par une simple affectation."
   ]
  },
  {
   "cell_type": "code",
   "execution_count": 84,
   "metadata": {},
   "outputs": [
    {
     "name": "stdout",
     "output_type": "stream",
     "text": [
      "Avant affectation : entiers[0] = 10\n",
      "Après affectation : entiers[0] = 7\n"
     ]
    }
   ],
   "source": [
    "int[] entiers = new int[] {10,15,20,25};\n",
    "\n",
    "Console.WriteLine(\"Avant affectation : entiers[0] = \"+entiers[0].ToString());\n",
    "\n",
    "entiers[0] = 7;\n",
    "\n",
    "Console.WriteLine(\"Après affectation : entiers[0] = \"+entiers[0].ToString());\n",
    "\n"
   ]
  },
  {
   "cell_type": "markdown",
   "metadata": {},
   "source": [
    "##### Tableaux multidimensionnels"
   ]
  },
  {
   "cell_type": "markdown",
   "metadata": {},
   "source": [
    "On peut aussi créer des tableaux multidimensionnels.  \n",
    "Par exemple un tableau à deux dimensions 2x3. "
   ]
  },
  {
   "cell_type": "code",
   "execution_count": 88,
   "metadata": {},
   "outputs": [],
   "source": [
    "int[,] variable = new int[2,3];"
   ]
  },
  {
   "cell_type": "markdown",
   "metadata": {},
   "source": [
    "---\n",
    "**Exercice :**  \n",
    "Construire un tableau `multiplication` correspondant à la table de multiplication de 10x10.  \n",
    "`multiplication[i,j]=i*j;`"
   ]
  },
  {
   "cell_type": "code",
   "execution_count": null,
   "metadata": {},
   "outputs": [],
   "source": []
  },
  {
   "cell_type": "markdown",
   "metadata": {},
   "source": [
    "---\n",
    "## 2 - Les commandes de base en `C#`"
   ]
  },
  {
   "cell_type": "markdown",
   "metadata": {},
   "source": [
    "### 2.1 - Les tests"
   ]
  },
  {
   "cell_type": "markdown",
   "metadata": {},
   "source": [
    "Les opérateurs de test sont:  \n",
    "* `==`: égalité  \n",
    "* `<`, `<=`, `>`et `>=` : comparaison  \n",
    "* `!=`: différence  \n",
    "* `not` pour l'opposé d'un booléan."
   ]
  },
  {
   "cell_type": "markdown",
   "metadata": {},
   "source": [
    "#### 2.1.1 La commande `if`"
   ]
  },
  {
   "cell_type": "markdown",
   "metadata": {},
   "source": [
    "Les tests se sont avec la commande `if`.  \n",
    "Le test doit être obligatoirement entre parenthèses et le bloc d'instruction est noté entre accolades."
   ]
  },
  {
   "cell_type": "code",
   "execution_count": 33,
   "metadata": {},
   "outputs": [
    {
     "name": "stdout",
     "output_type": "stream",
     "text": [
      "Test validé\r\n"
     ]
    }
   ],
   "source": [
    "int a=10;\n",
    "if (a==10)\n",
    "{\n",
    "    Console.WriteLine(\"Test validé\");\n",
    "}"
   ]
  },
  {
   "cell_type": "markdown",
   "metadata": {},
   "source": [
    "On peut rajouter la commande `else` (sinon)."
   ]
  },
  {
   "cell_type": "code",
   "execution_count": 36,
   "metadata": {},
   "outputs": [
    {
     "name": "stdout",
     "output_type": "stream",
     "text": [
      "Test non validé\r\n"
     ]
    }
   ],
   "source": [
    "int test=0;\n",
    "if (test==1)\n",
    "{\n",
    "    Console.WriteLine(\"Test validé\");\n",
    "}\n",
    "else\n",
    "{\n",
    "    Console.WriteLine(\"Test non validé\");\n",
    "}"
   ]
  },
  {
   "cell_type": "markdown",
   "metadata": {},
   "source": [
    "On peut cumuler la commande `else` avec la commande `if` pour un enchainement de tests."
   ]
  },
  {
   "cell_type": "code",
   "execution_count": 38,
   "metadata": {},
   "outputs": [
    {
     "name": "stdout",
     "output_type": "stream",
     "text": [
      "Deuxième test validé\r\n"
     ]
    }
   ],
   "source": [
    "int test=0;\n",
    "if (test==1)\n",
    "{\n",
    "    Console.WriteLine(\"Test validé\");\n",
    "}\n",
    "else if (test==0)\n",
    "    {\n",
    "        Console.WriteLine(\"Deuxième test validé\");\n",
    "    }\n",
    "    else\n",
    "    {\n",
    "        Console.WriteLine(\"Deuxième test non validé\");\n",
    "    }"
   ]
  },
  {
   "cell_type": "markdown",
   "metadata": {},
   "source": [
    "#### 2.1.2 La commande `switch`"
   ]
  },
  {
   "cell_type": "markdown",
   "metadata": {},
   "source": [
    "S'il y a plusieurs valeurs possibles à tester, on peut utiliser la commande `switch` avec `case`.  \n",
    "La commande `break` permet de sortir du bloc `switch`. (Elle permet aussi de sortir de toutes les boucles)."
   ]
  },
  {
   "cell_type": "code",
   "execution_count": 89,
   "metadata": {},
   "outputs": [
    {
     "name": "stdout",
     "output_type": "stream",
     "text": [
      "La variable est égale à 2\r\n"
     ]
    }
   ],
   "source": [
    "int variable = 2; //Vous pouvez changer la valeur pour faire les tests\n",
    "switch (variable)\n",
    "{\n",
    "    case 1:\n",
    "        Console.WriteLine(\"La variable est égale à 1\");\n",
    "        break; //La commande break permet de sortir du bloc switch\n",
    "    \n",
    "    case 2:\n",
    "        Console.WriteLine(\"La variable est égale à 2\");\n",
    "        break; //La commande break permet de sortir du bloc switch\n",
    "    \n",
    "    default:\n",
    "        Console.WriteLine(\"La variable n'est égale à aucun des cas prévus\");\n",
    "        break; //La commande break permet de sortir du bloc switch\n",
    "}"
   ]
  },
  {
   "cell_type": "markdown",
   "metadata": {},
   "source": [
    "### 2.2 Les boucles"
   ]
  },
  {
   "cell_type": "markdown",
   "metadata": {},
   "source": [
    "#### 2.2.1 La boucle `for`"
   ]
  },
  {
   "cell_type": "markdown",
   "metadata": {},
   "source": [
    "Lorsque l'on veut faire une boucle avec un nombre connu de \"tours\", on peut utiliser une boucle `for`.  \n",
    "La première partie correspond à l'initialisation du compteur.  \n",
    "La deuxième partie correspond à la condition de fonctionnement da la boucle.  \n",
    "La troisième partie correspond à l'incrémentation du compteur : `i++` correspond à `i=i+1`."
   ]
  },
  {
   "cell_type": "code",
   "execution_count": 52,
   "metadata": {},
   "outputs": [
    {
     "name": "stdout",
     "output_type": "stream",
     "text": [
      "0\n",
      "1\n",
      "2\n",
      "3\n",
      "4\n",
      "5\n"
     ]
    }
   ],
   "source": [
    "for(int i=0; i<=5; i++)\n",
    "{\n",
    "    Console.WriteLine(i);\n",
    "}"
   ]
  },
  {
   "cell_type": "markdown",
   "metadata": {},
   "source": [
    "---\n",
    "**Exercice :**  \n",
    "Ecrivez une boucle `for`permettant d'afficher tous les nombres pairs de 0 à 10."
   ]
  },
  {
   "cell_type": "code",
   "execution_count": null,
   "metadata": {},
   "outputs": [],
   "source": []
  },
  {
   "cell_type": "markdown",
   "metadata": {},
   "source": [
    "#### 2.2.2 La boucle `while`"
   ]
  },
  {
   "cell_type": "markdown",
   "metadata": {},
   "source": [
    "Comme en Python, il existe une boucle `while` (tant que)."
   ]
  },
  {
   "cell_type": "code",
   "execution_count": 90,
   "metadata": {},
   "outputs": [
    {
     "name": "stdout",
     "output_type": "stream",
     "text": [
      "0\n",
      "1\n",
      "2\n",
      "3\n",
      "4\n",
      "5\n"
     ]
    }
   ],
   "source": [
    "int i=0;\n",
    "while (i<=5)\n",
    "{\n",
    "    Console.WriteLine(i);\n",
    "    i++;\n",
    "}"
   ]
  },
  {
   "cell_type": "markdown",
   "metadata": {},
   "source": [
    "---\n",
    "**Exercice :**  \n",
    "Ecrivez une boucle `while` pour afficher tous les nombres impairs de 1 à 9."
   ]
  },
  {
   "cell_type": "code",
   "execution_count": null,
   "metadata": {},
   "outputs": [],
   "source": []
  },
  {
   "cell_type": "markdown",
   "metadata": {},
   "source": [
    "#### 2.2.3 La boucle `foreach`"
   ]
  },
  {
   "cell_type": "markdown",
   "metadata": {},
   "source": [
    "La boucle `foreach`permet de parcourir les éléments d'un tableau."
   ]
  },
  {
   "cell_type": "code",
   "execution_count": 91,
   "metadata": {},
   "outputs": [
    {
     "name": "stdout",
     "output_type": "stream",
     "text": [
      "Citroën\n",
      "Peugeot\n",
      "Renault\n"
     ]
    }
   ],
   "source": [
    "//On définit un tableau de chaines de caractères\n",
    "string[] marques = new string[] {\"Citroën\", \"Peugeot\", \"Renault\"}; \n",
    "\n",
    "//On parcourt tout le tableau\n",
    "foreach (string voiture in marques)\n",
    "{\n",
    "    Console.WriteLine(voiture);\n",
    "}"
   ]
  },
  {
   "cell_type": "markdown",
   "metadata": {},
   "source": [
    "---\n",
    "**Exercice :**  \n",
    "Construire un tableau contenant les nombres entiers 1,5,9,13,17.  \n",
    "Parcourir cette liste et afficher les nombres tour à tour."
   ]
  },
  {
   "cell_type": "markdown",
   "metadata": {},
   "source": [
    "#### 2.2.4 La boucle `do` `while`"
   ]
  },
  {
   "cell_type": "markdown",
   "metadata": {},
   "source": [
    "La boucle `do` `while` est une boucle où le test n'est effectué qu'après une première itération."
   ]
  },
  {
   "cell_type": "markdown",
   "metadata": {},
   "source": [
    "Dans les exemples suivants, le test `val<0` n'est pas vérifié.  \n",
    "La boucle `while` n'affichera rien alors que la boucle `do` `while` si."
   ]
  },
  {
   "cell_type": "code",
   "execution_count": 106,
   "metadata": {},
   "outputs": [],
   "source": [
    "int val = 0;\n",
    "while (val<0)\n",
    "{\n",
    "    Console.WriteLine(\"On est rentré dans la boucle.\");\n",
    "}"
   ]
  },
  {
   "cell_type": "code",
   "execution_count": 108,
   "metadata": {},
   "outputs": [
    {
     "name": "stdout",
     "output_type": "stream",
     "text": [
      "On est rentré dans la boucle.\r\n"
     ]
    }
   ],
   "source": [
    "int val = 0;\n",
    "do\n",
    "{\n",
    "    Console.WriteLine(\"On est rentré dans la boucle.\");\n",
    "}\n",
    "while (val<0);"
   ]
  },
  {
   "cell_type": "markdown",
   "metadata": {},
   "source": [
    "---\n",
    "**Exercice :**  \n",
    "En utilisant une boucle `do` `while`, faire afficher tous les nombres entiers de 1 à 5."
   ]
  },
  {
   "cell_type": "code",
   "execution_count": null,
   "metadata": {},
   "outputs": [],
   "source": []
  },
  {
   "cell_type": "markdown",
   "metadata": {},
   "source": [
    "---\n",
    "## 3 - Les fonctions"
   ]
  },
  {
   "cell_type": "markdown",
   "metadata": {},
   "source": [
    "En C#, toutes les instructions doivent être écrites dans des fonctions.  \n",
    "Dans la première partie du cours, le jupyter notebook nous a permis de nous affranchir de cette contrainte.   \n",
    "\n",
    "En situation normale, tout le code est inclus dans un espace de nom `namespace` puis dans une classe `class`.\n",
    "<pre>\n",
    "using System;\n",
    "namespace MaPremiereApplicationCSharp\n",
    "{\n",
    "    class MaClasse\n",
    "    {\n",
    "        static void Main()\n",
    "        {\n",
    "            Console.WriteLine(\"Hello, World\");\n",
    "        }\n",
    "    }\n",
    "}\n",
    "</pre>\n",
    " \n",
    "On reviendra sur ce principe de classe et d'espace de nom dans un autre document.  "
   ]
  },
  {
   "cell_type": "markdown",
   "metadata": {},
   "source": [
    "Une fonction est écrite sur le modèle suivant :  \n",
    "`<type d'accès> <type de retour> <Nom de la fonction> (paramètres)`\n",
    "\n",
    "Dans un premier temps, on ne va étudier que le type d'accès `public` (visible par tous en dehors de la classe).\n",
    "\n",
    "Le type de retour peut être n'importe quel type existant ou encore le mot clé `void` lors de l'absence de retour.  \n",
    "Le retour de la fonction s'effectue grâce au mot clé `return`."
   ]
  },
  {
   "cell_type": "code",
   "execution_count": 109,
   "metadata": {},
   "outputs": [],
   "source": [
    "public int somme(int premierNombre, int deuxiemeNombre)\n",
    "{\n",
    "    // Renvoie la somme entière des deux entiers passés en paramètres\n",
    "    return premierNombre + deuxiemeNombre;\n",
    "}\n",
    "\n",
    "public void bonjour()\n",
    "{\n",
    "    //Affiche un message et ne renvoie rien\n",
    "    Console.WriteLine(\"Hello world!\");\n",
    "}"
   ]
  },
  {
   "cell_type": "code",
   "execution_count": 111,
   "metadata": {},
   "outputs": [
    {
     "name": "stdout",
     "output_type": "stream",
     "text": [
      "Hello world!\r\n"
     ]
    }
   ],
   "source": [
    "bonjour()"
   ]
  },
  {
   "cell_type": "markdown",
   "metadata": {},
   "source": [
    "---\n",
    "**Exercice :**  \n",
    "Construire une fonction publique retournant une chaine de caractères. Cette fonction que l'on appellera `salutation` possèdera un paramétre `nom` de type chaine de caractères.  \n",
    "Elle doit renvoyer la chaîne \"Bonjour \"+nom."
   ]
  },
  {
   "cell_type": "code",
   "execution_count": null,
   "metadata": {},
   "outputs": [],
   "source": [
    "\\\\Votre fonction\n",
    "\n",
    "\n",
    "\n",
    "\n",
    "\n",
    "\n",
    "\\\\Code test\n",
    "\\\\On doit obtenir 'Bonjour Marcel'\n",
    "\n",
    "Console.WriteLine(salutation(\"Marcel\"));\n"
   ]
  }
 ],
 "metadata": {
  "kernelspec": {
   "display_name": ".NET (C#)",
   "language": "C#",
   "name": ".net-csharp"
  },
  "language_info": {
   "file_extension": ".cs",
   "mimetype": "text/x-csharp",
   "name": "C#",
   "pygments_lexer": "csharp",
   "version": "9.0"
  }
 },
 "nbformat": 4,
 "nbformat_minor": 4
}
