{
 "cells": [
  {
   "cell_type": "markdown",
   "metadata": {},
   "source": [
    "\n",
    "# Expressions, types de base et opérations\n",
    "\n",
    "Un **type** en informatique, est un ensemble de valeurs, doté d'opérations. "
   ]
  },
  {
   "cell_type": "markdown",
   "metadata": {},
   "source": [
    "**Remarque** : les expressions et les variables ont un type, mais il est inutile en Python de déclarer le type des variables qui est calculé dynamiquement en fonction de la valeur affectée à la variable."
   ]
  },
  {
   "cell_type": "code",
   "execution_count": null,
   "metadata": {},
   "outputs": [],
   "source": [
    "type(55)"
   ]
  },
  {
   "cell_type": "markdown",
   "metadata": {},
   "source": [
    "La plupart des langages distinguent, dans la mise en oeuvre, les nombres entiers et les nombres à virgule flottante car leur codage est différent. C'est le cas en Python.\n",
    "\n",
    "## Les entiers\n",
    "\n",
    "Les entiers peuvent être saisis en base 10 ou en base 2, 8 ou 16. Le calcul sur les entiers est exact dans la limite des entiers représentables (la limite dépend du langage utilisé)."
   ]
  },
  {
   "cell_type": "code",
   "execution_count": null,
   "metadata": {},
   "outputs": [],
   "source": [
    "1000"
   ]
  },
  {
   "cell_type": "code",
   "execution_count": null,
   "metadata": {},
   "outputs": [],
   "source": [
    "0b10000000000"
   ]
  },
  {
   "cell_type": "code",
   "execution_count": null,
   "metadata": {},
   "outputs": [],
   "source": [
    "0o7000"
   ]
  },
  {
   "cell_type": "code",
   "execution_count": null,
   "metadata": {},
   "outputs": [],
   "source": [
    "0xFFFF"
   ]
  },
  {
   "cell_type": "markdown",
   "metadata": {},
   "source": [
    "En Python, les entiers sont par défaut de taille arbitraire. Seule limite : la taille mémoire disponible."
   ]
  },
  {
   "cell_type": "code",
   "execution_count": null,
   "metadata": {},
   "outputs": [],
   "source": [
    "2**1000"
   ]
  },
  {
   "cell_type": "markdown",
   "metadata": {},
   "source": [
    "### Opérations sur les entiers\n",
    "- Les opérations arithmétiques usuelles : ``+``, ``-``, ``*``, ``/`` (la division donne un résultat de type flottant) \n",
    "\n",
    "- Le quotient et le reste de la division entière : ``//``, ``%``"
   ]
  },
  {
   "cell_type": "code",
   "execution_count": null,
   "metadata": {},
   "outputs": [],
   "source": [
    "6/2"
   ]
  },
  {
   "cell_type": "markdown",
   "metadata": {},
   "source": [
    "**Remarque**: L'évaluation de l'expression suivante s'effectue par ordre de priorité décroissante des opérateurs : ``*``, ``+``. On peut utiliser des parenthèses, pour contraindre l'ordre d'évaluation."
   ]
  },
  {
   "cell_type": "code",
   "execution_count": null,
   "metadata": {},
   "outputs": [],
   "source": [
    "6 * 7 + 3 * 2"
   ]
  },
  {
   "cell_type": "markdown",
   "metadata": {},
   "source": [
    "**Attention** : le quotient ``q`` et le reste ``r`` de la division de ``a`` par ``b`` ne sont pas définis comme en mathématiques mais par les propriétés suivantes :\n",
    "$a = b * q + r$ avec $|r| < |b|$ et $r$ et $b$ de même signe.\n"
   ]
  },
  {
   "cell_type": "code",
   "execution_count": null,
   "metadata": {},
   "outputs": [],
   "source": [
    "23//9, 23 % 9\n"
   ]
  },
  {
   "cell_type": "code",
   "execution_count": null,
   "metadata": {},
   "outputs": [],
   "source": [
    "23//-9, 23%-9"
   ]
  },
  {
   "cell_type": "markdown",
   "metadata": {},
   "source": [
    "Les deux exemples précédents calculent des couples de résultats. C'est la ``,`` qui permet de construire des couples."
   ]
  },
  {
   "cell_type": "markdown",
   "metadata": {},
   "source": [
    "## Les nombres flottants\n",
    "En Python, les flottants sont les nombres flottants à double précision disponibles sur l'ordinateur hôte.\n",
    "Selon la norme IEEE 754, ils sont représentés sur 64 bits dont 1 bit de signe, 11 bits d'exposant et 52 bits de mantisse.\n",
    "Les constantes sont écrites avec le point décimal et peuvent comporter un exposant (en base 10) commençant par 'e' ou 'E'.\n"
   ]
  },
  {
   "cell_type": "code",
   "execution_count": null,
   "metadata": {},
   "outputs": [],
   "source": [
    "6.023e23"
   ]
  },
  {
   "cell_type": "code",
   "execution_count": null,
   "metadata": {},
   "outputs": [],
   "source": [
    "type(3.0)"
   ]
  },
  {
   "cell_type": "markdown",
   "metadata": {},
   "source": [
    "Les opérations usuelles sur les flottants sont disponibles dans le module ``math``. Pour les utiliser il faut d'abord les importer.\n",
    "- Logarithmes et puissances : ``exp``, ``log``, ``pow``, ``sqrt``\n",
    "- Opérations trigonométriques : ``sin``, ``cos``, ``tan``, ``asin``, ``acos``, ``atan``\n",
    "- Hyperboliques : ``sinh``, ``cosh``, ``tanh``, ``asinh``, ``acosh``, ``atanh``\n",
    "- Arrondis et troncatures : ``ceil``, ``floor``, ``trunc``, ``round``\n",
    "- Constantes : ``pi``, ``e``"
   ]
  },
  {
   "cell_type": "code",
   "execution_count": null,
   "metadata": {},
   "outputs": [],
   "source": [
    "from math import *\n",
    "pi"
   ]
  },
  {
   "cell_type": "code",
   "execution_count": null,
   "metadata": {},
   "outputs": [],
   "source": [
    "sin(pi)"
   ]
  },
  {
   "cell_type": "markdown",
   "metadata": {},
   "source": [
    "**Remarque**: pour tout calcul sur les flottants, la précision relative de représentation sur 52 bits est $2^{⁻52}$ soit environ $2.10^{-16}$."
   ]
  },
  {
   "cell_type": "code",
   "execution_count": null,
   "metadata": {},
   "outputs": [],
   "source": [
    "trunc(3.14)"
   ]
  },
  {
   "cell_type": "code",
   "execution_count": null,
   "metadata": {},
   "outputs": [],
   "source": [
    "floor(-pi)"
   ]
  },
  {
   "cell_type": "markdown",
   "metadata": {},
   "source": [
    "## Les booléens\n",
    "\n",
    "Les constantes ``True`` et ``False`` sont des booléens - attention à bien les écrire en lettres Capitales. Sont disponibles les opérations logiques ``and``, ``or`` et ``not`` ainsi que les opérations de comparaison ``==`` (égalité disponible pour n'importe quel type), ``!=``, ``<``, ``<=``, ``>``, ``>=``.\n"
   ]
  },
  {
   "cell_type": "code",
   "execution_count": null,
   "metadata": {},
   "outputs": [],
   "source": [
    "tobe = False"
   ]
  },
  {
   "cell_type": "code",
   "execution_count": null,
   "metadata": {},
   "outputs": [],
   "source": [
    "tobe or not tobe"
   ]
  },
  {
   "cell_type": "code",
   "execution_count": null,
   "metadata": {},
   "outputs": [],
   "source": [
    "1900 % 4 == 0 and not 1900 % 100 == 0 or 1900 % 400 == 0"
   ]
  },
  {
   "cell_type": "markdown",
   "metadata": {},
   "source": [
    "- Vérifier le résultat de ce calcul prouvant que 1900 n'est pas une année bissextile en calculant la valeur de chaque condition."
   ]
  },
  {
   "cell_type": "markdown",
   "metadata": {},
   "source": [
    "**Remarque**: L'évaluation de cette expression s'effectue par ordre de priorité décroissante des opérateurs : ``%``, ``==``, ``not``, ``and``, ``or``.\n"
   ]
  },
  {
   "cell_type": "markdown",
   "metadata": {},
   "source": [
    "\n",
    "## Les chaînes de caractères\n",
    "\n",
    "Les chaînes de caractères constantes sont notées entre 'apostrophes simples' ou \"apostrophes doubles\", et peuvent être concaténées par l'opération ``+``. On peut calculer leur longueur par la fonction ``len`` et obtenir un de leur caractère par l'index de son rang dans la chaîne. La fonction ``str`` permet de convertir en chaine, une valeur d'un autre type."
   ]
  },
  {
   "cell_type": "code",
   "execution_count": null,
   "metadata": {},
   "outputs": [],
   "source": [
    "prenom = \"Christophe\""
   ]
  },
  {
   "cell_type": "code",
   "execution_count": null,
   "metadata": {},
   "outputs": [],
   "source": [
    "\"Bonjour \" + prenom"
   ]
  },
  {
   "cell_type": "code",
   "execution_count": null,
   "metadata": {},
   "outputs": [],
   "source": [
    "\"Ce prénom commence par un \" + prenom[0] +  \" et contient \" + str(len(prenom)) + \" lettres\""
   ]
  },
  {
   "cell_type": "markdown",
   "metadata": {},
   "source": [
    "**Remarque** : la numérotation des indices en Python commence à 0."
   ]
  },
  {
   "cell_type": "markdown",
   "metadata": {},
   "source": [
    "**Entiers**, **flottants**, **chaines** et **booléens** sont les quatre types de données élémentaires du langage Python. Toute information plus complexe peut être représentée en combinant dans un type structuré des informations de ces types élémentaires."
   ]
  },
  {
   "cell_type": "markdown",
   "metadata": {},
   "source": [
    "Equipe pédagoqique DIU EIL, ressource éducative libre distribuée sous [Licence Creative Commons Attribution - Pas d’Utilisation Commerciale - Partage dans les Mêmes Conditions 4.0 International](http://creativecommons.org/licenses/by-nc-sa/4.0/) ![Licence Creative Commons](https://i.creativecommons.org/l/by-nc-sa/4.0/88x31.png)"
   ]
  }
 ],
 "metadata": {
  "kernelspec": {
   "display_name": "Python 3",
   "language": "python",
   "name": "python3"
  },
  "language_info": {
   "codemirror_mode": {
    "name": "ipython",
    "version": 3
   },
   "file_extension": ".py",
   "mimetype": "text/x-python",
   "name": "python",
   "nbconvert_exporter": "python",
   "pygments_lexer": "ipython3",
   "version": "3.7.3"
  }
 },
 "nbformat": 4,
 "nbformat_minor": 1
}
